{
 "cells": [
  {
   "cell_type": "markdown",
   "metadata": {},
   "source": [
    "Before you turn this problem in, make sure everything runs as expected. First, **restart the kernel** (in the menubar, select Kernel$\\rightarrow$Restart) and then **run all cells** (in the menubar, select Cell$\\rightarrow$Run All).\n",
    "\n",
    "Make sure you fill in any place that says `YOUR CODE HERE` or \"YOUR ANSWER HERE\", as well as your name and collaborators below:"
   ]
  },
  {
   "cell_type": "code",
   "execution_count": 1,
   "metadata": {},
   "outputs": [],
   "source": [
    "NAME = \"Jianzhang Chen\"\n",
    "COLLABORATORS = \"\""
   ]
  },
  {
   "cell_type": "markdown",
   "metadata": {},
   "source": [
    "---"
   ]
  },
  {
   "cell_type": "markdown",
   "metadata": {
    "deletable": false,
    "editable": false,
    "nbgrader": {
     "checksum": "f947317d44c9625af9d99a10dfb36bfe",
     "grade": false,
     "grade_id": "cell-55c8eb13e7c8be19",
     "locked": true,
     "schema_version": 1,
     "solution": false
    }
   },
   "source": [
    "# Assignment 5: Using R for Data Cleaning\n",
    "This assignment will introduce you to the basics of reading data and normalizing text files for analysis using R. The dataset we will use is a record of restaurant menus being curated by a museum for archiving purposes. We are going to focus on the \"event\" field in the file.\n",
    "\n"
   ]
  },
  {
   "cell_type": "markdown",
   "metadata": {
    "deletable": false,
    "editable": false,
    "nbgrader": {
     "checksum": "817fc0bcca21cd7bf7cd30b41f1a51d4",
     "grade": false,
     "grade_id": "cell-ad4e7869e26af86c",
     "locked": true,
     "schema_version": 1,
     "solution": false
    }
   },
   "source": [
    "## Loading Libraries (5pts)\n",
    "\n",
    "This assignment requires the \"tidyverse\" and \"refinr\" packages. Write and run the code required to use these packages."
   ]
  },
  {
   "cell_type": "code",
   "execution_count": 2,
   "metadata": {
    "deletable": false,
    "nbgrader": {
     "checksum": "ec008716943e0eff9b8726c7865d9c54",
     "grade": false,
     "grade_id": "cell-e21043b665319ff9",
     "locked": false,
     "schema_version": 1,
     "solution": true
    }
   },
   "outputs": [
    {
     "name": "stderr",
     "output_type": "stream",
     "text": [
      "Loading tidyverse: ggplot2\n",
      "Loading tidyverse: tibble\n",
      "Loading tidyverse: tidyr\n",
      "Loading tidyverse: readr\n",
      "Loading tidyverse: purrr\n",
      "Loading tidyverse: dplyr\n",
      "Conflicts with tidy packages ---------------------------------------------------\n",
      "filter(): dplyr, stats\n",
      "lag():    dplyr, stats\n"
     ]
    }
   ],
   "source": [
    "# Place your solution here\n",
    "library(tidyverse)\n",
    "library(refinr)\n"
   ]
  },
  {
   "cell_type": "code",
   "execution_count": 3,
   "metadata": {
    "deletable": false,
    "editable": false,
    "nbgrader": {
     "checksum": "dff9d8e2e2cfd7aa32eb725879727efc",
     "grade": true,
     "grade_id": "cell-ae3f00600f82ecc1",
     "locked": true,
     "points": 5,
     "schema_version": 1,
     "solution": false
    }
   },
   "outputs": [],
   "source": [
    "# This cell will test if you gave the above answer correctly.\n",
    "# It will only run after submission\n"
   ]
  },
  {
   "cell_type": "markdown",
   "metadata": {
    "deletable": false,
    "editable": false,
    "nbgrader": {
     "checksum": "ac038a746f9f987fcaac5f7628b3c74a",
     "grade": false,
     "grade_id": "cell-34aa067b0357a311",
     "locked": true,
     "schema_version": 1,
     "solution": false
    }
   },
   "source": [
    "## Loading Data Files (10pts)\n",
    "We have supplied a file called \"Menu.csv\" that is in the \"~/data_readonly/A5/\" directory path. \n",
    "Load the \"Menu.csv\" file into a variable called object using the csv read functions from tidyverse."
   ]
  },
  {
   "cell_type": "code",
   "execution_count": 4,
   "metadata": {
    "deletable": false,
    "nbgrader": {
     "checksum": "5e2924e22c3be1478a2b353e33d6399c",
     "grade": false,
     "grade_id": "cell-b0ba05eb4d95a842",
     "locked": false,
     "schema_version": 1,
     "solution": true
    }
   },
   "outputs": [
    {
     "name": "stderr",
     "output_type": "stream",
     "text": [
      "Parsed with column specification:\n",
      "cols(\n",
      "  .default = col_character(),\n",
      "  id = col_integer(),\n",
      "  date = col_date(format = \"\"),\n",
      "  page_count = col_integer(),\n",
      "  dish_count = col_integer()\n",
      ")\n",
      "See spec(...) for full column specifications.\n"
     ]
    }
   ],
   "source": [
    "# Create a variable called \"menu\" for your result\n",
    "menu = read_csv('~/data_readonly/A5/Menu.csv')\n",
    "\n"
   ]
  },
  {
   "cell_type": "code",
   "execution_count": 5,
   "metadata": {
    "deletable": false,
    "editable": false,
    "nbgrader": {
     "checksum": "29bac84d1af545a7b833698ea04c97b4",
     "grade": true,
     "grade_id": "cell-740474a3e6e7d48b",
     "locked": true,
     "points": 6,
     "schema_version": 1,
     "solution": false
    }
   },
   "outputs": [],
   "source": [
    "# This cell will test if you gave the above answer correctly.\n",
    "# It will only run after submission\n"
   ]
  },
  {
   "cell_type": "markdown",
   "metadata": {
    "deletable": false,
    "editable": false,
    "nbgrader": {
     "checksum": "74df226a942cbdb0c2fd4c694b4f0626",
     "grade": false,
     "grade_id": "cell-d2f7fe041ddd0812",
     "locked": true,
     "schema_version": 1,
     "solution": false
    }
   },
   "source": [
    "Run the command that shows you the specificiations of the columns that were loaded"
   ]
  },
  {
   "cell_type": "code",
   "execution_count": 6,
   "metadata": {
    "deletable": false,
    "nbgrader": {
     "checksum": "d89e2d0277ee2db09dfc4d78a4d3bcb4",
     "grade": false,
     "grade_id": "cell-cae943d3b81ad784",
     "locked": false,
     "schema_version": 1,
     "solution": true
    },
    "scrolled": true
   },
   "outputs": [
    {
     "data": {
      "text/plain": [
       "cols(\n",
       "  id = col_integer(),\n",
       "  name = col_character(),\n",
       "  sponsor = col_character(),\n",
       "  event = col_character(),\n",
       "  venue = col_character(),\n",
       "  place = col_character(),\n",
       "  physical_description = col_character(),\n",
       "  occasion = col_character(),\n",
       "  notes = col_character(),\n",
       "  call_number = col_character(),\n",
       "  keywords = col_character(),\n",
       "  language = col_character(),\n",
       "  date = col_date(format = \"\"),\n",
       "  location = col_character(),\n",
       "  location_type = col_character(),\n",
       "  currency = col_character(),\n",
       "  currency_symbol = col_character(),\n",
       "  status = col_character(),\n",
       "  page_count = col_integer(),\n",
       "  dish_count = col_integer()\n",
       ")"
      ]
     },
     "metadata": {},
     "output_type": "display_data"
    }
   ],
   "source": [
    "# Place your solution here\n",
    "spec(menu)\n"
   ]
  },
  {
   "cell_type": "code",
   "execution_count": 7,
   "metadata": {
    "deletable": false,
    "editable": false,
    "nbgrader": {
     "checksum": "94903a2329eda5641c7125d0493a8c62",
     "grade": true,
     "grade_id": "cell-878bca67cc9ce653",
     "locked": true,
     "points": 1,
     "schema_version": 1,
     "solution": false
    }
   },
   "outputs": [],
   "source": [
    "# This cell will test if you gave the above answer correctly.\n",
    "# It will only run after submission\n"
   ]
  },
  {
   "cell_type": "markdown",
   "metadata": {
    "deletable": false,
    "editable": false,
    "nbgrader": {
     "checksum": "559f5f10ea89571da13f344da975cbbf",
     "grade": false,
     "grade_id": "cell-9792cae01ebb8b0d",
     "locked": true,
     "schema_version": 1,
     "solution": false
    }
   },
   "source": [
    "Run the command that will let you glimpse at the loaded data"
   ]
  },
  {
   "cell_type": "code",
   "execution_count": 8,
   "metadata": {
    "deletable": false,
    "nbgrader": {
     "checksum": "f31f17d7ec286dcf4f0d569114246814",
     "grade": false,
     "grade_id": "cell-5e1a924a69dba918",
     "locked": false,
     "schema_version": 1,
     "solution": true
    }
   },
   "outputs": [
    {
     "name": "stdout",
     "output_type": "stream",
     "text": [
      "Observations: 17,079\n",
      "Variables: 20\n",
      "$ id                   <int> 12463, 12464, 12465, 12466, 12467, 12468, 1246...\n",
      "$ name                 <chr> NA, NA, NA, NA, NA, NA, NA, NA, NA, NA, NA, NA...\n",
      "$ sponsor              <chr> \"HOTEL EASTMAN\", \"REPUBLICAN HOUSE\", \"NORDDEUT...\n",
      "$ event                <chr> \"BREAKFAST\", \"[DINNER]\", \"FRUHSTUCK/BREAKFAST;...\n",
      "$ venue                <chr> \"COMMERCIAL\", \"COMMERCIAL\", \"COMMERCIAL\", \"COM...\n",
      "$ place                <chr> \"HOT SPRINGS, AR\", \"MILWAUKEE, [WI];\", \"DAMPFE...\n",
      "$ physical_description <chr> \"CARD; 4.75X7.5;\", \"CARD; ILLUS; COL; 7.0X9.0;...\n",
      "$ occasion             <chr> \"EASTER;\", \"EASTER;\", NA, NA, NA, NA, NA, NA, ...\n",
      "$ notes                <chr> NA, \"WEDGEWOOD BLUE CARD; WHITE EMBOSSED GREEK...\n",
      "$ call_number          <chr> \"1900-2822\", \"1900-2825\", \"1900-2827\", \"1900-2...\n",
      "$ keywords             <chr> NA, NA, NA, NA, NA, NA, NA, NA, NA, NA, NA, NA...\n",
      "$ language             <chr> NA, NA, NA, NA, NA, NA, NA, NA, NA, NA, NA, NA...\n",
      "$ date                 <date> 1900-04-15, 1900-04-15, 1900-04-16, 1900-04-1...\n",
      "$ location             <chr> \"Hotel Eastman\", \"Republican House\", \"Norddeut...\n",
      "$ location_type        <chr> NA, NA, NA, NA, NA, NA, NA, NA, NA, NA, NA, NA...\n",
      "$ currency             <chr> NA, NA, NA, NA, NA, NA, \"Dollars\", NA, NA, NA,...\n",
      "$ currency_symbol      <chr> NA, NA, NA, NA, NA, NA, \"$\", NA, NA, NA, NA, \"...\n",
      "$ status               <chr> \"complete\", \"complete\", \"under review\", \"compl...\n",
      "$ page_count           <int> 2, 2, 2, 2, 4, 2, 2, 2, 2, 4, 2, 12, 2, 4, 2, ...\n",
      "$ dish_count           <int> 67, 34, 84, 63, 33, 37, 144, 80, 67, 29, 19, 3...\n"
     ]
    }
   ],
   "source": [
    "# Place your solution here\n",
    "glimpse(menu)\n"
   ]
  },
  {
   "cell_type": "code",
   "execution_count": 9,
   "metadata": {
    "deletable": false,
    "editable": false,
    "nbgrader": {
     "checksum": "5367462f31f283b019168a07759cd26a",
     "grade": true,
     "grade_id": "cell-260a1b85e447e2ed",
     "locked": true,
     "points": 1,
     "schema_version": 1,
     "solution": false
    }
   },
   "outputs": [],
   "source": [
    "# This cell will test if you gave the above answer correctly.\n",
    "# It will only run after submission\n"
   ]
  },
  {
   "cell_type": "markdown",
   "metadata": {
    "deletable": false,
    "editable": false,
    "nbgrader": {
     "checksum": "e2b47a1b7ab6de10dd7778ce2d78caf3",
     "grade": false,
     "grade_id": "cell-ce96dff10a845e7c",
     "locked": true,
     "schema_version": 1,
     "solution": false
    }
   },
   "source": [
    "How many rows (observations) are there?\n",
    "Calculate the answer using an R method, don't just report the number."
   ]
  },
  {
   "cell_type": "code",
   "execution_count": 10,
   "metadata": {
    "deletable": false,
    "nbgrader": {
     "checksum": "ffe1d40ef6cf5a73cd322681e719feab",
     "grade": false,
     "grade_id": "cell-b06ba17e33b1d88c",
     "locked": false,
     "schema_version": 1,
     "solution": true
    }
   },
   "outputs": [
    {
     "data": {
      "text/html": [
       "17079"
      ],
      "text/latex": [
       "17079"
      ],
      "text/markdown": [
       "17079"
      ],
      "text/plain": [
       "[1] 17079"
      ]
     },
     "metadata": {},
     "output_type": "display_data"
    }
   ],
   "source": [
    "# Create a variable called \"menu_rows\" for your result\n",
    "menu_rows = nrow(menu)\n",
    "menu_rows"
   ]
  },
  {
   "cell_type": "code",
   "execution_count": 11,
   "metadata": {
    "deletable": false,
    "editable": false,
    "nbgrader": {
     "checksum": "f01edb75290c80b0a83568d27309dbb8",
     "grade": true,
     "grade_id": "cell-ecc3ced1703e45d8",
     "locked": true,
     "points": 1,
     "schema_version": 1,
     "solution": false
    }
   },
   "outputs": [],
   "source": [
    "# This cell will test if you gave the above answer correctly.\n",
    "# It will only run after submission\n"
   ]
  },
  {
   "cell_type": "markdown",
   "metadata": {
    "deletable": false,
    "editable": false,
    "nbgrader": {
     "checksum": "82a874546258d5acb92af092461ab165",
     "grade": false,
     "grade_id": "cell-0673966ea296d8a6",
     "locked": true,
     "schema_version": 1,
     "solution": false
    }
   },
   "source": [
    "How many columns (variables) of data are there?\n",
    "Calculate the answer using an R method, don't just report the number."
   ]
  },
  {
   "cell_type": "code",
   "execution_count": 36,
   "metadata": {
    "deletable": false,
    "nbgrader": {
     "checksum": "f4d1426525c61492596b18e743df563c",
     "grade": false,
     "grade_id": "cell-397dfe6e64378d9e",
     "locked": false,
     "schema_version": 1,
     "solution": true
    }
   },
   "outputs": [
    {
     "data": {
      "text/html": [
       "22"
      ],
      "text/latex": [
       "22"
      ],
      "text/markdown": [
       "22"
      ],
      "text/plain": [
       "[1] 22"
      ]
     },
     "metadata": {},
     "output_type": "display_data"
    }
   ],
   "source": [
    "# Create a variable called \"menu_cols\" for your result\n",
    "\n",
    "menu_cols = ncol(menu)\n",
    "menu_cols"
   ]
  },
  {
   "cell_type": "code",
   "execution_count": 13,
   "metadata": {
    "deletable": false,
    "editable": false,
    "nbgrader": {
     "checksum": "b307b55f3f1c3f0e78aa5db43fb37639",
     "grade": true,
     "grade_id": "cell-45ac86cbe8bb312a",
     "locked": true,
     "points": 1,
     "schema_version": 1,
     "solution": false
    }
   },
   "outputs": [],
   "source": [
    "# This cell will test if you gave the above answer correctly.\n",
    "# It will only run after submission\n"
   ]
  },
  {
   "cell_type": "markdown",
   "metadata": {
    "deletable": false,
    "editable": false,
    "nbgrader": {
     "checksum": "803858a50b5029d475f7a7731b6e4e2f",
     "grade": false,
     "grade_id": "cell-48b49c7b5396589f",
     "locked": true,
     "schema_version": 1,
     "solution": false
    }
   },
   "source": [
    "## Examinging the Data (25pts)\n",
    "We are going to focus on the \"event\" variable (menu$event, or menu[,4]). \n",
    "Since the data is stored in a tibble, use the count function to count the total number of event types listed."
   ]
  },
  {
   "cell_type": "code",
   "execution_count": 14,
   "metadata": {
    "deletable": false,
    "nbgrader": {
     "checksum": "0e5a55084a27db2cfd2b947864945a1a",
     "grade": false,
     "grade_id": "cell-b22807a671eeddec",
     "locked": false,
     "schema_version": 1,
     "solution": true
    }
   },
   "outputs": [
    {
     "data": {
      "text/html": [
       "<table>\n",
       "<thead><tr><th scope=col>event</th><th scope=col>n</th></tr></thead>\n",
       "<tbody>\n",
       "\t<tr><td>NA                 </td><td>8925               </td></tr>\n",
       "\t<tr><td>DINNER             </td><td>1827               </td></tr>\n",
       "\t<tr><td>BREAKFAST          </td><td> 830               </td></tr>\n",
       "\t<tr><td>LUNCHEON           </td><td> 532               </td></tr>\n",
       "\t<tr><td>LUNCH              </td><td> 520               </td></tr>\n",
       "\t<tr><td>DAILY MENU         </td><td> 218               </td></tr>\n",
       "\t<tr><td>TIFFIN             </td><td> 174               </td></tr>\n",
       "\t<tr><td>dinner             </td><td> 142               </td></tr>\n",
       "\t<tr><td>MENU               </td><td> 109               </td></tr>\n",
       "\t<tr><td>ANNUAL DINNER      </td><td> 104               </td></tr>\n",
       "\t<tr><td>SUPPER             </td><td> 104               </td></tr>\n",
       "\t<tr><td>[DINNER]           </td><td>  74               </td></tr>\n",
       "\t<tr><td>BANQUET            </td><td>  74               </td></tr>\n",
       "\t<tr><td>Dinner             </td><td>  70               </td></tr>\n",
       "\t<tr><td>lunch              </td><td>  55               </td></tr>\n",
       "\t<tr><td>Breakfast          </td><td>  52               </td></tr>\n",
       "\t<tr><td>CHRISTMAS DINNER   </td><td>  49               </td></tr>\n",
       "\t<tr><td>daily menu         </td><td>  49               </td></tr>\n",
       "\t<tr><td>ANNUAL BANQUET     </td><td>  46               </td></tr>\n",
       "\t<tr><td>DINNER MENU        </td><td>  46               </td></tr>\n",
       "\t<tr><td>BILL OF FARE       </td><td>  45               </td></tr>\n",
       "\t<tr><td>breakfast          </td><td>  44               </td></tr>\n",
       "\t<tr><td>Daily              </td><td>  43               </td></tr>\n",
       "\t<tr><td>DAILY MENU, DINNER </td><td>  37               </td></tr>\n",
       "\t<tr><td>FRUHSTUCK          </td><td>  33               </td></tr>\n",
       "\t<tr><td>Lunch              </td><td>  33               </td></tr>\n",
       "\t<tr><td>brunch             </td><td>  26               </td></tr>\n",
       "\t<tr><td>MITTAGESSEN        </td><td>  25               </td></tr>\n",
       "\t<tr><td>THANKSGIVING DINNER</td><td>  25               </td></tr>\n",
       "\t<tr><td>DINER              </td><td>  21               </td></tr>\n",
       "\t<tr><td>⋮</td><td>⋮</td></tr>\n",
       "\t<tr><td>TWENTY-SEVENTH ANNUAL BANQUET IN COMMEMORATION OF THOMAS JEFFERSON</td><td>1                                                                 </td></tr>\n",
       "\t<tr><td>TWENTY-SEVENTH ANNUAL BANQUET OF THE LOYAL LEAGUE                 </td><td>1                                                                 </td></tr>\n",
       "\t<tr><td>TWENTY-SIXTH ANNUAL DINNER                                        </td><td>1                                                                 </td></tr>\n",
       "\t<tr><td>TWENTY-SIXTH ANNUAL RECEPTION                                     </td><td>1                                                                 </td></tr>\n",
       "\t<tr><td>TWENTY-THIRD ANNUAL BANQUET                                       </td><td>1                                                                 </td></tr>\n",
       "\t<tr><td>TWO HUNDREDTH BANQUET                                             </td><td>1                                                                 </td></tr>\n",
       "\t<tr><td>U.S.GRANT'S BIRTHDAY                                              </td><td>1                                                                 </td></tr>\n",
       "\t<tr><td>VALENTINE BREAKFAST                                               </td><td>1                                                                 </td></tr>\n",
       "\t<tr><td>VAUDEVILLE ENTERTAINMENT                                          </td><td>1                                                                 </td></tr>\n",
       "\t<tr><td>VETERAN REUNION,TWENTY-FIFTH ANNIVERSARY                          </td><td>1                                                                 </td></tr>\n",
       "\t<tr><td>VISIT OF COLONIAL PRIME MINISTERS TO THE CITY OF LONDON           </td><td>1                                                                 </td></tr>\n",
       "\t<tr><td>WASHINGT0N'S BIRTHDAY                                             </td><td>1                                                                 </td></tr>\n",
       "\t<tr><td>WASHINGTON TRIP                                                   </td><td>1                                                                 </td></tr>\n",
       "\t<tr><td>WASHINGTON'S BIRTHDAY DINNER MENU                                 </td><td>1                                                                 </td></tr>\n",
       "\t<tr><td>WASHINGTON'S BIRTHDAY EVE                                         </td><td>1                                                                 </td></tr>\n",
       "\t<tr><td>WASHINGTON'S BUFFET                                               </td><td>1                                                                 </td></tr>\n",
       "\t<tr><td>wedding                                                           </td><td>1                                                                 </td></tr>\n",
       "\t<tr><td>WEDDING BREAKFAST                                                 </td><td>1                                                                 </td></tr>\n",
       "\t<tr><td>WEDDING DAY                                                       </td><td>1                                                                 </td></tr>\n",
       "\t<tr><td>WEDDING OF WILHELMINA ZEISSE AND ALOYS SCHAUFLER                  </td><td>1                                                                 </td></tr>\n",
       "\t<tr><td>WEDDING RECEPTION                                                 </td><td>1                                                                 </td></tr>\n",
       "\t<tr><td>WEDDING(?)                                                        </td><td>1                                                                 </td></tr>\n",
       "\t<tr><td>WELCOME HOME DINNER TENDERED TO THE HONORALBE ROBERT A. VAN WYCK  </td><td>1                                                                 </td></tr>\n",
       "\t<tr><td>WHITE DINNER                                                      </td><td>1                                                                 </td></tr>\n",
       "\t<tr><td>Wine list                                                         </td><td>1                                                                 </td></tr>\n",
       "\t<tr><td>Wine List for Composite Car Service                               </td><td>1                                                                 </td></tr>\n",
       "\t<tr><td>WINE LIST;                                                        </td><td>1                                                                 </td></tr>\n",
       "\t<tr><td>WINKELRIED-AUFFUHRUNGEN                                           </td><td>1                                                                 </td></tr>\n",
       "\t<tr><td>WINTER BANQUET                                                    </td><td>1                                                                 </td></tr>\n",
       "\t<tr><td>WORLD'S COLUMBIAN EXPOSITION DINNER                               </td><td>1                                                                 </td></tr>\n",
       "</tbody>\n",
       "</table>\n"
      ],
      "text/latex": [
       "\\begin{tabular}{r|ll}\n",
       " event & n\\\\\n",
       "\\hline\n",
       "\t NA                  & 8925               \\\\\n",
       "\t DINNER              & 1827               \\\\\n",
       "\t BREAKFAST           &  830               \\\\\n",
       "\t LUNCHEON            &  532               \\\\\n",
       "\t LUNCH               &  520               \\\\\n",
       "\t DAILY MENU          &  218               \\\\\n",
       "\t TIFFIN              &  174               \\\\\n",
       "\t dinner              &  142               \\\\\n",
       "\t MENU                &  109               \\\\\n",
       "\t ANNUAL DINNER       &  104               \\\\\n",
       "\t SUPPER              &  104               \\\\\n",
       "\t {[}DINNER{]}            &   74                   \\\\\n",
       "\t BANQUET             &   74               \\\\\n",
       "\t Dinner              &   70               \\\\\n",
       "\t lunch               &   55               \\\\\n",
       "\t Breakfast           &   52               \\\\\n",
       "\t CHRISTMAS DINNER    &   49               \\\\\n",
       "\t daily menu          &   49               \\\\\n",
       "\t ANNUAL BANQUET      &   46               \\\\\n",
       "\t DINNER MENU         &   46               \\\\\n",
       "\t BILL OF FARE        &   45               \\\\\n",
       "\t breakfast           &   44               \\\\\n",
       "\t Daily               &   43               \\\\\n",
       "\t DAILY MENU, DINNER  &   37               \\\\\n",
       "\t FRUHSTUCK           &   33               \\\\\n",
       "\t Lunch               &   33               \\\\\n",
       "\t brunch              &   26               \\\\\n",
       "\t MITTAGESSEN         &   25               \\\\\n",
       "\t THANKSGIVING DINNER &   25               \\\\\n",
       "\t DINER               &   21               \\\\\n",
       "\t ⋮ & ⋮\\\\\n",
       "\t TWENTY-SEVENTH ANNUAL BANQUET IN COMMEMORATION OF THOMAS JEFFERSON & 1                                                                 \\\\\n",
       "\t TWENTY-SEVENTH ANNUAL BANQUET OF THE LOYAL LEAGUE                  & 1                                                                 \\\\\n",
       "\t TWENTY-SIXTH ANNUAL DINNER                                         & 1                                                                 \\\\\n",
       "\t TWENTY-SIXTH ANNUAL RECEPTION                                      & 1                                                                 \\\\\n",
       "\t TWENTY-THIRD ANNUAL BANQUET                                        & 1                                                                 \\\\\n",
       "\t TWO HUNDREDTH BANQUET                                              & 1                                                                 \\\\\n",
       "\t U.S.GRANT'S BIRTHDAY                                               & 1                                                                 \\\\\n",
       "\t VALENTINE BREAKFAST                                                & 1                                                                 \\\\\n",
       "\t VAUDEVILLE ENTERTAINMENT                                           & 1                                                                 \\\\\n",
       "\t VETERAN REUNION,TWENTY-FIFTH ANNIVERSARY                           & 1                                                                 \\\\\n",
       "\t VISIT OF COLONIAL PRIME MINISTERS TO THE CITY OF LONDON            & 1                                                                 \\\\\n",
       "\t WASHINGT0N'S BIRTHDAY                                              & 1                                                                 \\\\\n",
       "\t WASHINGTON TRIP                                                    & 1                                                                 \\\\\n",
       "\t WASHINGTON'S BIRTHDAY DINNER MENU                                  & 1                                                                 \\\\\n",
       "\t WASHINGTON'S BIRTHDAY EVE                                          & 1                                                                 \\\\\n",
       "\t WASHINGTON'S BUFFET                                                & 1                                                                 \\\\\n",
       "\t wedding                                                            & 1                                                                 \\\\\n",
       "\t WEDDING BREAKFAST                                                  & 1                                                                 \\\\\n",
       "\t WEDDING DAY                                                        & 1                                                                 \\\\\n",
       "\t WEDDING OF WILHELMINA ZEISSE AND ALOYS SCHAUFLER                   & 1                                                                 \\\\\n",
       "\t WEDDING RECEPTION                                                  & 1                                                                 \\\\\n",
       "\t WEDDING(?)                                                         & 1                                                                 \\\\\n",
       "\t WELCOME HOME DINNER TENDERED TO THE HONORALBE ROBERT A. VAN WYCK   & 1                                                                 \\\\\n",
       "\t WHITE DINNER                                                       & 1                                                                 \\\\\n",
       "\t Wine list                                                          & 1                                                                 \\\\\n",
       "\t Wine List for Composite Car Service                                & 1                                                                 \\\\\n",
       "\t WINE LIST;                                                         & 1                                                                 \\\\\n",
       "\t WINKELRIED-AUFFUHRUNGEN                                            & 1                                                                 \\\\\n",
       "\t WINTER BANQUET                                                     & 1                                                                 \\\\\n",
       "\t WORLD'S COLUMBIAN EXPOSITION DINNER                                & 1                                                                 \\\\\n",
       "\\end{tabular}\n"
      ],
      "text/markdown": [
       "\n",
       "event | n | \n",
       "|---|---|---|---|---|---|---|---|---|---|---|---|---|---|---|---|---|---|---|---|---|---|---|---|---|---|---|---|---|---|---|---|---|---|---|---|---|---|---|---|---|---|---|---|---|---|---|---|---|---|---|---|---|---|---|---|---|---|---|---|---|\n",
       "| NA                  | 8925                | \n",
       "| DINNER              | 1827                | \n",
       "| BREAKFAST           |  830                | \n",
       "| LUNCHEON            |  532                | \n",
       "| LUNCH               |  520                | \n",
       "| DAILY MENU          |  218                | \n",
       "| TIFFIN              |  174                | \n",
       "| dinner              |  142                | \n",
       "| MENU                |  109                | \n",
       "| ANNUAL DINNER       |  104                | \n",
       "| SUPPER              |  104                | \n",
       "| [DINNER]            |   74                | \n",
       "| BANQUET             |   74                | \n",
       "| Dinner              |   70                | \n",
       "| lunch               |   55                | \n",
       "| Breakfast           |   52                | \n",
       "| CHRISTMAS DINNER    |   49                | \n",
       "| daily menu          |   49                | \n",
       "| ANNUAL BANQUET      |   46                | \n",
       "| DINNER MENU         |   46                | \n",
       "| BILL OF FARE        |   45                | \n",
       "| breakfast           |   44                | \n",
       "| Daily               |   43                | \n",
       "| DAILY MENU, DINNER  |   37                | \n",
       "| FRUHSTUCK           |   33                | \n",
       "| Lunch               |   33                | \n",
       "| brunch              |   26                | \n",
       "| MITTAGESSEN         |   25                | \n",
       "| THANKSGIVING DINNER |   25                | \n",
       "| DINER               |   21                | \n",
       "| ⋮ | ⋮ | \n",
       "| TWENTY-SEVENTH ANNUAL BANQUET IN COMMEMORATION OF THOMAS JEFFERSON | 1                                                                  | \n",
       "| TWENTY-SEVENTH ANNUAL BANQUET OF THE LOYAL LEAGUE                  | 1                                                                  | \n",
       "| TWENTY-SIXTH ANNUAL DINNER                                         | 1                                                                  | \n",
       "| TWENTY-SIXTH ANNUAL RECEPTION                                      | 1                                                                  | \n",
       "| TWENTY-THIRD ANNUAL BANQUET                                        | 1                                                                  | \n",
       "| TWO HUNDREDTH BANQUET                                              | 1                                                                  | \n",
       "| U.S.GRANT'S BIRTHDAY                                               | 1                                                                  | \n",
       "| VALENTINE BREAKFAST                                                | 1                                                                  | \n",
       "| VAUDEVILLE ENTERTAINMENT                                           | 1                                                                  | \n",
       "| VETERAN REUNION,TWENTY-FIFTH ANNIVERSARY                           | 1                                                                  | \n",
       "| VISIT OF COLONIAL PRIME MINISTERS TO THE CITY OF LONDON            | 1                                                                  | \n",
       "| WASHINGT0N'S BIRTHDAY                                              | 1                                                                  | \n",
       "| WASHINGTON TRIP                                                    | 1                                                                  | \n",
       "| WASHINGTON'S BIRTHDAY DINNER MENU                                  | 1                                                                  | \n",
       "| WASHINGTON'S BIRTHDAY EVE                                          | 1                                                                  | \n",
       "| WASHINGTON'S BUFFET                                                | 1                                                                  | \n",
       "| wedding                                                            | 1                                                                  | \n",
       "| WEDDING BREAKFAST                                                  | 1                                                                  | \n",
       "| WEDDING DAY                                                        | 1                                                                  | \n",
       "| WEDDING OF WILHELMINA ZEISSE AND ALOYS SCHAUFLER                   | 1                                                                  | \n",
       "| WEDDING RECEPTION                                                  | 1                                                                  | \n",
       "| WEDDING(?)                                                         | 1                                                                  | \n",
       "| WELCOME HOME DINNER TENDERED TO THE HONORALBE ROBERT A. VAN WYCK   | 1                                                                  | \n",
       "| WHITE DINNER                                                       | 1                                                                  | \n",
       "| Wine list                                                          | 1                                                                  | \n",
       "| Wine List for Composite Car Service                                | 1                                                                  | \n",
       "| WINE LIST;                                                         | 1                                                                  | \n",
       "| WINKELRIED-AUFFUHRUNGEN                                            | 1                                                                  | \n",
       "| WINTER BANQUET                                                     | 1                                                                  | \n",
       "| WORLD'S COLUMBIAN EXPOSITION DINNER                                | 1                                                                  | \n",
       "\n",
       "\n"
      ],
      "text/plain": [
       "     event                                                              n   \n",
       "1    NA                                                                 8925\n",
       "2    DINNER                                                             1827\n",
       "3    BREAKFAST                                                           830\n",
       "4    LUNCHEON                                                            532\n",
       "5    LUNCH                                                               520\n",
       "6    DAILY MENU                                                          218\n",
       "7    TIFFIN                                                              174\n",
       "8    dinner                                                              142\n",
       "9    MENU                                                                109\n",
       "10   ANNUAL DINNER                                                       104\n",
       "11   SUPPER                                                              104\n",
       "12   [DINNER]                                                             74\n",
       "13   BANQUET                                                              74\n",
       "14   Dinner                                                               70\n",
       "15   lunch                                                                55\n",
       "16   Breakfast                                                            52\n",
       "17   CHRISTMAS DINNER                                                     49\n",
       "18   daily menu                                                           49\n",
       "19   ANNUAL BANQUET                                                       46\n",
       "20   DINNER MENU                                                          46\n",
       "21   BILL OF FARE                                                         45\n",
       "22   breakfast                                                            44\n",
       "23   Daily                                                                43\n",
       "24   DAILY MENU, DINNER                                                   37\n",
       "25   FRUHSTUCK                                                            33\n",
       "26   Lunch                                                                33\n",
       "27   brunch                                                               26\n",
       "28   MITTAGESSEN                                                          25\n",
       "29   THANKSGIVING DINNER                                                  25\n",
       "30   DINER                                                                21\n",
       "⋮    ⋮                                                                  ⋮   \n",
       "1741 TWENTY-SEVENTH ANNUAL BANQUET IN COMMEMORATION OF THOMAS JEFFERSON 1   \n",
       "1742 TWENTY-SEVENTH ANNUAL BANQUET OF THE LOYAL LEAGUE                  1   \n",
       "1743 TWENTY-SIXTH ANNUAL DINNER                                         1   \n",
       "1744 TWENTY-SIXTH ANNUAL RECEPTION                                      1   \n",
       "1745 TWENTY-THIRD ANNUAL BANQUET                                        1   \n",
       "1746 TWO HUNDREDTH BANQUET                                              1   \n",
       "1747 U.S.GRANT'S BIRTHDAY                                               1   \n",
       "1748 VALENTINE BREAKFAST                                                1   \n",
       "1749 VAUDEVILLE ENTERTAINMENT                                           1   \n",
       "1750 VETERAN REUNION,TWENTY-FIFTH ANNIVERSARY                           1   \n",
       "1751 VISIT OF COLONIAL PRIME MINISTERS TO THE CITY OF LONDON            1   \n",
       "1752 WASHINGT0N'S BIRTHDAY                                              1   \n",
       "1753 WASHINGTON TRIP                                                    1   \n",
       "1754 WASHINGTON'S BIRTHDAY DINNER MENU                                  1   \n",
       "1755 WASHINGTON'S BIRTHDAY EVE                                          1   \n",
       "1756 WASHINGTON'S BUFFET                                                1   \n",
       "1757 wedding                                                            1   \n",
       "1758 WEDDING BREAKFAST                                                  1   \n",
       "1759 WEDDING DAY                                                        1   \n",
       "1760 WEDDING OF WILHELMINA ZEISSE AND ALOYS SCHAUFLER                   1   \n",
       "1761 WEDDING RECEPTION                                                  1   \n",
       "1762 WEDDING(?)                                                         1   \n",
       "1763 WELCOME HOME DINNER TENDERED TO THE HONORALBE ROBERT A. VAN WYCK   1   \n",
       "1764 WHITE DINNER                                                       1   \n",
       "1765 Wine list                                                          1   \n",
       "1766 Wine List for Composite Car Service                                1   \n",
       "1767 WINE LIST;                                                         1   \n",
       "1768 WINKELRIED-AUFFUHRUNGEN                                            1   \n",
       "1769 WINTER BANQUET                                                     1   \n",
       "1770 WORLD'S COLUMBIAN EXPOSITION DINNER                                1   "
      ]
     },
     "metadata": {},
     "output_type": "display_data"
    }
   ],
   "source": [
    "# Create a variable called \"event_type\" for your result\n",
    "# event_type = count(table(menu$event))\n",
    "event_type = count(menu,event, sort=TRUE)\n",
    "event_type"
   ]
  },
  {
   "cell_type": "code",
   "execution_count": 15,
   "metadata": {
    "deletable": false,
    "editable": false,
    "nbgrader": {
     "checksum": "01aebfcbd107e380f231c71c12a6f8cb",
     "grade": true,
     "grade_id": "cell-ed13da840863064b",
     "locked": true,
     "points": 5,
     "schema_version": 1,
     "solution": false
    }
   },
   "outputs": [],
   "source": [
    "# This cell will test if you gave the above answer correctly.\n",
    "# It will only run after submission\n"
   ]
  },
  {
   "cell_type": "markdown",
   "metadata": {
    "deletable": false,
    "editable": false,
    "nbgrader": {
     "checksum": "dd66c5c94b5471ec49788cf87c65e35d",
     "grade": false,
     "grade_id": "cell-dff98168b5f90c75",
     "locked": true,
     "schema_version": 1,
     "solution": false
    }
   },
   "source": [
    "How many different event types are listed? 'NA' is an acceptable result and should be counted.\n",
    "Calculate the answer using an R method, don't just report the number."
   ]
  },
  {
   "cell_type": "code",
   "execution_count": 16,
   "metadata": {
    "deletable": false,
    "nbgrader": {
     "checksum": "952ad6c6cf831825902cdcd18bebf3c0",
     "grade": false,
     "grade_id": "cell-476bfe25d5f68e6c",
     "locked": false,
     "schema_version": 1,
     "solution": true
    }
   },
   "outputs": [
    {
     "data": {
      "text/html": [
       "1770"
      ],
      "text/latex": [
       "1770"
      ],
      "text/markdown": [
       "1770"
      ],
      "text/plain": [
       "[1] 1770"
      ]
     },
     "metadata": {},
     "output_type": "display_data"
    }
   ],
   "source": [
    "# Create a variable called \"count_event_types\" for your result\n",
    "count_event_types = nrow(count(menu,event))\n",
    "count_event_types"
   ]
  },
  {
   "cell_type": "code",
   "execution_count": 17,
   "metadata": {
    "deletable": false,
    "editable": false,
    "nbgrader": {
     "checksum": "1dec2fa24a97b192c0ba1eda2ec96e1d",
     "grade": true,
     "grade_id": "cell-6578504d64e35aee",
     "locked": true,
     "points": 5,
     "schema_version": 1,
     "solution": false
    }
   },
   "outputs": [],
   "source": [
    "# This cell will test if you gave the above answer correctly.\n",
    "# It will only run after submission\n"
   ]
  },
  {
   "cell_type": "markdown",
   "metadata": {
    "deletable": false,
    "editable": false,
    "nbgrader": {
     "checksum": "bbcc4fb84d128a893629d1fcc6c2fc17",
     "grade": false,
     "grade_id": "cell-ef9fc4cdc252edd7",
     "locked": true,
     "schema_version": 1,
     "solution": false
    }
   },
   "source": [
    "Normalize the data by clustering using the key_collision_merge() method. \n",
    "Remember, this method does not run against a whole tibble, but against a vector or list of data – i.e. menu$event. \n",
    "The returned result is not a tibble – convert it to a tibble by coercing the result into a tibble using as.tibble(…)"
   ]
  },
  {
   "cell_type": "code",
   "execution_count": 18,
   "metadata": {
    "deletable": false,
    "nbgrader": {
     "checksum": "915cce177799df1168f1c3f1e4ae9d21",
     "grade": false,
     "grade_id": "cell-ac4918d45c4ed897",
     "locked": false,
     "schema_version": 1,
     "solution": true
    }
   },
   "outputs": [
    {
     "data": {
      "text/html": [
       "<table>\n",
       "<thead><tr><th scope=col>value</th></tr></thead>\n",
       "<tbody>\n",
       "\t<tr><td>BREAKFAST                                   </td></tr>\n",
       "\t<tr><td>DINNER                                      </td></tr>\n",
       "\t<tr><td>FRUHSTUCK-BREAKFAST                         </td></tr>\n",
       "\t<tr><td>LUNCH                                       </td></tr>\n",
       "\t<tr><td>DINNER                                      </td></tr>\n",
       "\t<tr><td>DINNER                                      </td></tr>\n",
       "\t<tr><td>SUPPER                                      </td></tr>\n",
       "\t<tr><td>FRUHSTUCK-BREAKFAST                         </td></tr>\n",
       "\t<tr><td>LUNCH                                       </td></tr>\n",
       "\t<tr><td>DINNER                                      </td></tr>\n",
       "\t<tr><td>CAFE LUNCHEON                               </td></tr>\n",
       "\t<tr><td>ANNUAL BANQUET                              </td></tr>\n",
       "\t<tr><td>DINNER                                      </td></tr>\n",
       "\t<tr><td>DINNE                                       </td></tr>\n",
       "\t<tr><td>BREAKFAST                                   </td></tr>\n",
       "\t<tr><td>NA                                          </td></tr>\n",
       "\t<tr><td>DINNER                                      </td></tr>\n",
       "\t<tr><td>BREAKFAST                                   </td></tr>\n",
       "\t<tr><td>LUNCHEON                                    </td></tr>\n",
       "\t<tr><td>DINNER                                      </td></tr>\n",
       "\t<tr><td>CARTE DU JOUR                               </td></tr>\n",
       "\t<tr><td>ANNUAL MEETING                              </td></tr>\n",
       "\t<tr><td>BREAKFAST                                   </td></tr>\n",
       "\t<tr><td>DINNER                                      </td></tr>\n",
       "\t<tr><td>LUNCH                                       </td></tr>\n",
       "\t<tr><td>BANQUET OF THE FIFTY NINTH ANNUAL CONVENTION</td></tr>\n",
       "\t<tr><td>FIFTH ANNUAL REUNION                        </td></tr>\n",
       "\t<tr><td>DINNER                                      </td></tr>\n",
       "\t<tr><td>SHAKEPEARE COMMEMORATION                    </td></tr>\n",
       "\t<tr><td>DINNER                                      </td></tr>\n",
       "\t<tr><td>⋮</td></tr>\n",
       "\t<tr><td>NA</td></tr>\n",
       "\t<tr><td>NA</td></tr>\n",
       "\t<tr><td>NA</td></tr>\n",
       "\t<tr><td>NA</td></tr>\n",
       "\t<tr><td>NA</td></tr>\n",
       "\t<tr><td>NA</td></tr>\n",
       "\t<tr><td>NA</td></tr>\n",
       "\t<tr><td>NA</td></tr>\n",
       "\t<tr><td>NA</td></tr>\n",
       "\t<tr><td>NA</td></tr>\n",
       "\t<tr><td>NA</td></tr>\n",
       "\t<tr><td>NA</td></tr>\n",
       "\t<tr><td>NA</td></tr>\n",
       "\t<tr><td>NA</td></tr>\n",
       "\t<tr><td>NA</td></tr>\n",
       "\t<tr><td>NA</td></tr>\n",
       "\t<tr><td>NA</td></tr>\n",
       "\t<tr><td>NA</td></tr>\n",
       "\t<tr><td>NA</td></tr>\n",
       "\t<tr><td>NA</td></tr>\n",
       "\t<tr><td>NA</td></tr>\n",
       "\t<tr><td>NA</td></tr>\n",
       "\t<tr><td>NA</td></tr>\n",
       "\t<tr><td>NA</td></tr>\n",
       "\t<tr><td>NA</td></tr>\n",
       "\t<tr><td>NA</td></tr>\n",
       "\t<tr><td>NA</td></tr>\n",
       "\t<tr><td>NA</td></tr>\n",
       "\t<tr><td>NA</td></tr>\n",
       "\t<tr><td>NA</td></tr>\n",
       "</tbody>\n",
       "</table>\n"
      ],
      "text/latex": [
       "\\begin{tabular}{r|l}\n",
       " value\\\\\n",
       "\\hline\n",
       "\t BREAKFAST                                   \\\\\n",
       "\t DINNER                                      \\\\\n",
       "\t FRUHSTUCK-BREAKFAST                         \\\\\n",
       "\t LUNCH                                       \\\\\n",
       "\t DINNER                                      \\\\\n",
       "\t DINNER                                      \\\\\n",
       "\t SUPPER                                      \\\\\n",
       "\t FRUHSTUCK-BREAKFAST                         \\\\\n",
       "\t LUNCH                                       \\\\\n",
       "\t DINNER                                      \\\\\n",
       "\t CAFE LUNCHEON                               \\\\\n",
       "\t ANNUAL BANQUET                              \\\\\n",
       "\t DINNER                                      \\\\\n",
       "\t DINNE                                       \\\\\n",
       "\t BREAKFAST                                   \\\\\n",
       "\t NA                                          \\\\\n",
       "\t DINNER                                      \\\\\n",
       "\t BREAKFAST                                   \\\\\n",
       "\t LUNCHEON                                    \\\\\n",
       "\t DINNER                                      \\\\\n",
       "\t CARTE DU JOUR                               \\\\\n",
       "\t ANNUAL MEETING                              \\\\\n",
       "\t BREAKFAST                                   \\\\\n",
       "\t DINNER                                      \\\\\n",
       "\t LUNCH                                       \\\\\n",
       "\t BANQUET OF THE FIFTY NINTH ANNUAL CONVENTION\\\\\n",
       "\t FIFTH ANNUAL REUNION                        \\\\\n",
       "\t DINNER                                      \\\\\n",
       "\t SHAKEPEARE COMMEMORATION                    \\\\\n",
       "\t DINNER                                      \\\\\n",
       "\t ⋮\\\\\n",
       "\t NA\\\\\n",
       "\t NA\\\\\n",
       "\t NA\\\\\n",
       "\t NA\\\\\n",
       "\t NA\\\\\n",
       "\t NA\\\\\n",
       "\t NA\\\\\n",
       "\t NA\\\\\n",
       "\t NA\\\\\n",
       "\t NA\\\\\n",
       "\t NA\\\\\n",
       "\t NA\\\\\n",
       "\t NA\\\\\n",
       "\t NA\\\\\n",
       "\t NA\\\\\n",
       "\t NA\\\\\n",
       "\t NA\\\\\n",
       "\t NA\\\\\n",
       "\t NA\\\\\n",
       "\t NA\\\\\n",
       "\t NA\\\\\n",
       "\t NA\\\\\n",
       "\t NA\\\\\n",
       "\t NA\\\\\n",
       "\t NA\\\\\n",
       "\t NA\\\\\n",
       "\t NA\\\\\n",
       "\t NA\\\\\n",
       "\t NA\\\\\n",
       "\t NA\\\\\n",
       "\\end{tabular}\n"
      ],
      "text/markdown": [
       "\n",
       "value | \n",
       "|---|---|---|---|---|---|---|---|---|---|---|---|---|---|---|---|---|---|---|---|---|---|---|---|---|---|---|---|---|---|---|---|---|---|---|---|---|---|---|---|---|---|---|---|---|---|---|---|---|---|---|---|---|---|---|---|---|---|---|---|---|\n",
       "| BREAKFAST                                    | \n",
       "| DINNER                                       | \n",
       "| FRUHSTUCK-BREAKFAST                          | \n",
       "| LUNCH                                        | \n",
       "| DINNER                                       | \n",
       "| DINNER                                       | \n",
       "| SUPPER                                       | \n",
       "| FRUHSTUCK-BREAKFAST                          | \n",
       "| LUNCH                                        | \n",
       "| DINNER                                       | \n",
       "| CAFE LUNCHEON                                | \n",
       "| ANNUAL BANQUET                               | \n",
       "| DINNER                                       | \n",
       "| DINNE                                        | \n",
       "| BREAKFAST                                    | \n",
       "| NA                                           | \n",
       "| DINNER                                       | \n",
       "| BREAKFAST                                    | \n",
       "| LUNCHEON                                     | \n",
       "| DINNER                                       | \n",
       "| CARTE DU JOUR                                | \n",
       "| ANNUAL MEETING                               | \n",
       "| BREAKFAST                                    | \n",
       "| DINNER                                       | \n",
       "| LUNCH                                        | \n",
       "| BANQUET OF THE FIFTY NINTH ANNUAL CONVENTION | \n",
       "| FIFTH ANNUAL REUNION                         | \n",
       "| DINNER                                       | \n",
       "| SHAKEPEARE COMMEMORATION                     | \n",
       "| DINNER                                       | \n",
       "| ⋮ | \n",
       "| NA | \n",
       "| NA | \n",
       "| NA | \n",
       "| NA | \n",
       "| NA | \n",
       "| NA | \n",
       "| NA | \n",
       "| NA | \n",
       "| NA | \n",
       "| NA | \n",
       "| NA | \n",
       "| NA | \n",
       "| NA | \n",
       "| NA | \n",
       "| NA | \n",
       "| NA | \n",
       "| NA | \n",
       "| NA | \n",
       "| NA | \n",
       "| NA | \n",
       "| NA | \n",
       "| NA | \n",
       "| NA | \n",
       "| NA | \n",
       "| NA | \n",
       "| NA | \n",
       "| NA | \n",
       "| NA | \n",
       "| NA | \n",
       "| NA | \n",
       "\n",
       "\n"
      ],
      "text/plain": [
       "      value                                       \n",
       "1     BREAKFAST                                   \n",
       "2     DINNER                                      \n",
       "3     FRUHSTUCK-BREAKFAST                         \n",
       "4     LUNCH                                       \n",
       "5     DINNER                                      \n",
       "6     DINNER                                      \n",
       "7     SUPPER                                      \n",
       "8     FRUHSTUCK-BREAKFAST                         \n",
       "9     LUNCH                                       \n",
       "10    DINNER                                      \n",
       "11    CAFE LUNCHEON                               \n",
       "12    ANNUAL BANQUET                              \n",
       "13    DINNER                                      \n",
       "14    DINNE                                       \n",
       "15    BREAKFAST                                   \n",
       "16    NA                                          \n",
       "17    DINNER                                      \n",
       "18    BREAKFAST                                   \n",
       "19    LUNCHEON                                    \n",
       "20    DINNER                                      \n",
       "21    CARTE DU JOUR                               \n",
       "22    ANNUAL MEETING                              \n",
       "23    BREAKFAST                                   \n",
       "24    DINNER                                      \n",
       "25    LUNCH                                       \n",
       "26    BANQUET OF THE FIFTY NINTH ANNUAL CONVENTION\n",
       "27    FIFTH ANNUAL REUNION                        \n",
       "28    DINNER                                      \n",
       "29    SHAKEPEARE COMMEMORATION                    \n",
       "30    DINNER                                      \n",
       "⋮     ⋮                                           \n",
       "17050 NA                                          \n",
       "17051 NA                                          \n",
       "17052 NA                                          \n",
       "17053 NA                                          \n",
       "17054 NA                                          \n",
       "17055 NA                                          \n",
       "17056 NA                                          \n",
       "17057 NA                                          \n",
       "17058 NA                                          \n",
       "17059 NA                                          \n",
       "17060 NA                                          \n",
       "17061 NA                                          \n",
       "17062 NA                                          \n",
       "17063 NA                                          \n",
       "17064 NA                                          \n",
       "17065 NA                                          \n",
       "17066 NA                                          \n",
       "17067 NA                                          \n",
       "17068 NA                                          \n",
       "17069 NA                                          \n",
       "17070 NA                                          \n",
       "17071 NA                                          \n",
       "17072 NA                                          \n",
       "17073 NA                                          \n",
       "17074 NA                                          \n",
       "17075 NA                                          \n",
       "17076 NA                                          \n",
       "17077 NA                                          \n",
       "17078 NA                                          \n",
       "17079 NA                                          "
      ]
     },
     "metadata": {},
     "output_type": "display_data"
    }
   ],
   "source": [
    "# Create a variable called \"event_types_merged\" for your result\n",
    "event_types_merged = as.tibble(key_collision_merge(menu$event))\n",
    "event_types_merged"
   ]
  },
  {
   "cell_type": "code",
   "execution_count": 19,
   "metadata": {
    "deletable": false,
    "editable": false,
    "nbgrader": {
     "checksum": "ba02acaf6d1064628de005250e10fb5d",
     "grade": true,
     "grade_id": "cell-af4043eecedd07b0",
     "locked": true,
     "points": 5,
     "schema_version": 1,
     "solution": false
    }
   },
   "outputs": [],
   "source": [
    "# This cell will test if you gave the above answer correctly.\n",
    "# It will only run after submission\n"
   ]
  },
  {
   "cell_type": "markdown",
   "metadata": {},
   "source": [
    "Perform a count against this list. How many different event types are listed now?\n",
    "Calculate the answer using an R method, don't just report the number."
   ]
  },
  {
   "cell_type": "code",
   "execution_count": 39,
   "metadata": {
    "deletable": false,
    "nbgrader": {
     "checksum": "bf07e6bc8895324fc3c968413166c423",
     "grade": false,
     "grade_id": "cell-c0ffa0891609a9d5",
     "locked": false,
     "schema_version": 1,
     "solution": true
    }
   },
   "outputs": [
    {
     "data": {
      "text/html": [
       "1639"
      ],
      "text/latex": [
       "1639"
      ],
      "text/markdown": [
       "1639"
      ],
      "text/plain": [
       "[1] 1639"
      ]
     },
     "metadata": {},
     "output_type": "display_data"
    }
   ],
   "source": [
    "# Create a variable called \"count_event_type_merged\" for your result\n",
    "count_event_type_merged = nrow(count(event_types_merged, value))\n",
    "count_event_type_merged"
   ]
  },
  {
   "cell_type": "code",
   "execution_count": 21,
   "metadata": {
    "deletable": false,
    "editable": false,
    "nbgrader": {
     "checksum": "4e4b2018f7269cbedee36696d9f09231",
     "grade": true,
     "grade_id": "cell-91d5924f040c4e5d",
     "locked": true,
     "points": 5,
     "schema_version": 1,
     "solution": false
    }
   },
   "outputs": [],
   "source": [
    "# This cell will test if you gave the above answer correctly.\n",
    "# It will only run after submission\n"
   ]
  },
  {
   "cell_type": "markdown",
   "metadata": {
    "deletable": false,
    "editable": false,
    "nbgrader": {
     "checksum": "fdfb92cb753273e0d4f0cdffd0a9f169",
     "grade": false,
     "grade_id": "cell-531da6822b114081",
     "locked": true,
     "schema_version": 1,
     "solution": false
    }
   },
   "source": [
    "Add a column to the menu tibble called \"eventMerged\" that contains the values previously calculated into the \"event_types_merged\" variable. Remember, this just needs to be a list, and can't be a tibble."
   ]
  },
  {
   "cell_type": "code",
   "execution_count": 22,
   "metadata": {
    "deletable": false,
    "nbgrader": {
     "checksum": "e80aea8480ae5f9899ea3d0ca4fa43f2",
     "grade": false,
     "grade_id": "cell-dff08245ac7d48f2",
     "locked": false,
     "schema_version": 1,
     "solution": true
    }
   },
   "outputs": [],
   "source": [
    "# Add a column to the menu tibble. Reuse the menu variable.\n",
    "menu$eventMerged = key_collision_merge(event_types_merged$value)"
   ]
  },
  {
   "cell_type": "code",
   "execution_count": 23,
   "metadata": {},
   "outputs": [
    {
     "data": {
      "text/html": [
       "<ol class=list-inline>\n",
       "\t<li>'BREAKFAST'</li>\n",
       "\t<li>'DINNER'</li>\n",
       "\t<li>'FRUHSTUCK-BREAKFAST'</li>\n",
       "\t<li>'LUNCH'</li>\n",
       "\t<li>'DINNER'</li>\n",
       "\t<li>'DINNER'</li>\n",
       "</ol>\n"
      ],
      "text/latex": [
       "\\begin{enumerate*}\n",
       "\\item 'BREAKFAST'\n",
       "\\item 'DINNER'\n",
       "\\item 'FRUHSTUCK-BREAKFAST'\n",
       "\\item 'LUNCH'\n",
       "\\item 'DINNER'\n",
       "\\item 'DINNER'\n",
       "\\end{enumerate*}\n"
      ],
      "text/markdown": [
       "1. 'BREAKFAST'\n",
       "2. 'DINNER'\n",
       "3. 'FRUHSTUCK-BREAKFAST'\n",
       "4. 'LUNCH'\n",
       "5. 'DINNER'\n",
       "6. 'DINNER'\n",
       "\n",
       "\n"
      ],
      "text/plain": [
       "[1] \"BREAKFAST\"           \"DINNER\"              \"FRUHSTUCK-BREAKFAST\"\n",
       "[4] \"LUNCH\"               \"DINNER\"              \"DINNER\"             "
      ]
     },
     "metadata": {},
     "output_type": "display_data"
    }
   ],
   "source": [
    "head(menu$eventMerged)"
   ]
  },
  {
   "cell_type": "code",
   "execution_count": 24,
   "metadata": {},
   "outputs": [
    {
     "name": "stdout",
     "output_type": "stream",
     "text": [
      "Observations: 17,079\n",
      "Variables: 21\n",
      "$ id                   <int> 12463, 12464, 12465, 12466, 12467, 12468, 1246...\n",
      "$ name                 <chr> NA, NA, NA, NA, NA, NA, NA, NA, NA, NA, NA, NA...\n",
      "$ sponsor              <chr> \"HOTEL EASTMAN\", \"REPUBLICAN HOUSE\", \"NORDDEUT...\n",
      "$ event                <chr> \"BREAKFAST\", \"[DINNER]\", \"FRUHSTUCK/BREAKFAST;...\n",
      "$ venue                <chr> \"COMMERCIAL\", \"COMMERCIAL\", \"COMMERCIAL\", \"COM...\n",
      "$ place                <chr> \"HOT SPRINGS, AR\", \"MILWAUKEE, [WI];\", \"DAMPFE...\n",
      "$ physical_description <chr> \"CARD; 4.75X7.5;\", \"CARD; ILLUS; COL; 7.0X9.0;...\n",
      "$ occasion             <chr> \"EASTER;\", \"EASTER;\", NA, NA, NA, NA, NA, NA, ...\n",
      "$ notes                <chr> NA, \"WEDGEWOOD BLUE CARD; WHITE EMBOSSED GREEK...\n",
      "$ call_number          <chr> \"1900-2822\", \"1900-2825\", \"1900-2827\", \"1900-2...\n",
      "$ keywords             <chr> NA, NA, NA, NA, NA, NA, NA, NA, NA, NA, NA, NA...\n",
      "$ language             <chr> NA, NA, NA, NA, NA, NA, NA, NA, NA, NA, NA, NA...\n",
      "$ date                 <date> 1900-04-15, 1900-04-15, 1900-04-16, 1900-04-1...\n",
      "$ location             <chr> \"Hotel Eastman\", \"Republican House\", \"Norddeut...\n",
      "$ location_type        <chr> NA, NA, NA, NA, NA, NA, NA, NA, NA, NA, NA, NA...\n",
      "$ currency             <chr> NA, NA, NA, NA, NA, NA, \"Dollars\", NA, NA, NA,...\n",
      "$ currency_symbol      <chr> NA, NA, NA, NA, NA, NA, \"$\", NA, NA, NA, NA, \"...\n",
      "$ status               <chr> \"complete\", \"complete\", \"under review\", \"compl...\n",
      "$ page_count           <int> 2, 2, 2, 2, 4, 2, 2, 2, 2, 4, 2, 12, 2, 4, 2, ...\n",
      "$ dish_count           <int> 67, 34, 84, 63, 33, 37, 144, 80, 67, 29, 19, 3...\n",
      "$ eventMerged          <chr> \"BREAKFAST\", \"DINNER\", \"FRUHSTUCK-BREAKFAST\", ...\n"
     ]
    }
   ],
   "source": [
    "glimpse(menu)"
   ]
  },
  {
   "cell_type": "code",
   "execution_count": 25,
   "metadata": {
    "deletable": false,
    "editable": false,
    "nbgrader": {
     "checksum": "fdcf06a1a260188d62b6fd42e6243c9e",
     "grade": true,
     "grade_id": "cell-a4f7ccaf6f8fc0bc",
     "locked": true,
     "points": 5,
     "schema_version": 1,
     "solution": false
    }
   },
   "outputs": [],
   "source": [
    "# This cell will test if you gave the above answer correctly.\n",
    "# It will only run after submission\n"
   ]
  },
  {
   "cell_type": "markdown",
   "metadata": {},
   "source": [
    "## Building a Dictionary (40pts)\n",
    "There are 3 main meals in a day, breakfast, lunch, dinner. These are the \"events\" we have been looking at.\n",
    "\n",
    "The menu file lists these, but it is inconsistent - and in some cases also in German.\n",
    "\n",
    "From the data in the count_event_types_merged variable, create a dictionary that will bring as many “BREAKFAST”, “LUNCH”, and “DINNER” type events together under those categories. Not everything will fit into a category, and that is OK.\n",
    "\n",
    "It might be useful to use a grep style filter to find things like “Dinner”:\n",
    "e.g. dinners <- filter(event_type_norm_count, str_detect(value,regex(\"dinner\",ignore_case=TRUE)))\n",
    "\n",
    "The output from this will create a list of all events types that mention the word “dinner”.\n",
    "\n",
    "If you want to export the results of a query to a csv file to help building this locally, you can do it using:\n",
    "write_csv(variable, filename)\n",
    "\n",
    "Download this file locally to help create your dictionary. \n",
    "\n",
    "Using Excel, or the tool of your choice, create the dictionary file as a separate file csv file with two columns. The first should be labelled as “eventMerged” and the second as “eventNorm” and upload it to your Jupyter notebook. Load it via a read_csv command into the eventDict variable.\n"
   ]
  },
  {
   "cell_type": "code",
   "execution_count": 27,
   "metadata": {
    "deletable": false,
    "nbgrader": {
     "checksum": "b3e2609640837e4fe1e46cb5d00f4944",
     "grade": false,
     "grade_id": "cell-c71e4d6a26d61d0c",
     "locked": false,
     "schema_version": 1,
     "solution": true
    }
   },
   "outputs": [
    {
     "name": "stderr",
     "output_type": "stream",
     "text": [
      "Parsed with column specification:\n",
      "cols(\n",
      "  eventMerged = col_character(),\n",
      "  eventNorm = col_character()\n",
      ")\n"
     ]
    },
    {
     "data": {
      "text/html": [
       "<table>\n",
       "<thead><tr><th scope=col>eventMerged</th><th scope=col>eventNorm</th></tr></thead>\n",
       "<tbody>\n",
       "\t<tr><td>1ST ANNUAL BREAKFAST                                                                                                </td><td>BREAKFAST                                                                                                           </td></tr>\n",
       "\t<tr><td><span style=white-space:pre-wrap>BILL OF FARE - BREAKFAST &amp; SUPPER                                                                                   </span></td><td>BREAKFAST                                                                                                                                                       </td></tr>\n",
       "\t<tr><td>BILL OF FARE/[BREAKFAST] ONE SIDE; BILL OF FARE/[LUNCH] REVERSE SIDE;                                               </td><td>BREAKFAST                                                                                                           </td></tr>\n",
       "\t<tr><td>BILL OF FARE/BREAKFAST/DINNER                                                                                       </td><td>BREAKFAST                                                                                                           </td></tr>\n",
       "\t<tr><td>BREAKFAST                                                                                                           </td><td>BREAKFAST                                                                                                           </td></tr>\n",
       "\t<tr><td>BREAKFAST - A LA CARTE                                                                                              </td><td>BREAKFAST                                                                                                           </td></tr>\n",
       "\t<tr><td>BREAKFAST - PULLMAN DINING CAR SERVICE                                                                              </td><td>BREAKFAST                                                                                                           </td></tr>\n",
       "\t<tr><td>BREAKFAST - SECOND CABIN                                                                                            </td><td>BREAKFAST                                                                                                           </td></tr>\n",
       "\t<tr><td><span style=white-space:pre-wrap>BREAKFAST - TOUR OF THE PRES. TO CHICAGO &amp; THE NORTHWEST                                                            </span></td><td>BREAKFAST                                                                                                                                                       </td></tr>\n",
       "\t<tr><td>Breakfast (?) Held By Nordeutscher Lloyd Bremen At On Board The Ss George Washington                                </td><td>BREAKFAST                                                                                                           </td></tr>\n",
       "\t<tr><td>BREAKFAST [ON FUNERAL TRAIN OF PRESIDENT McKINLEY?]                                                                 </td><td>BREAKFAST                                                                                                           </td></tr>\n",
       "\t<tr><td><span style=white-space:pre-wrap>BREAKFAST &amp; DINNER MENU                                                                                             </span></td><td>BREAKFAST                                                                                                                                                       </td></tr>\n",
       "\t<tr><td><span style=white-space:pre-wrap>BREAKFAST &amp; LUNCHEON                                                                                                </span></td><td>BREAKFAST                                                                                                                                                       </td></tr>\n",
       "\t<tr><td><span style=white-space:pre-wrap>BREAKFAST &amp; SUPPER MENU                                                                                             </span></td><td>BREAKFAST                                                                                                                                                       </td></tr>\n",
       "\t<tr><td>Breakfast ˆ La Carte                                                                                                </td><td>BREAKFAST                                                                                                           </td></tr>\n",
       "\t<tr><td>BREAKFAST AND SUPPER                                                                                                </td><td>BREAKFAST                                                                                                           </td></tr>\n",
       "\t<tr><td>Breakfast By Usms St Louis                                                                                          </td><td>BREAKFAST                                                                                                           </td></tr>\n",
       "\t<tr><td>BREAKFAST DURING TRIP TO GERMANIC MUSEUM,CAMBRIDGE,MASS;                                                            </td><td>BREAKFAST                                                                                                           </td></tr>\n",
       "\t<tr><td>BREAKFAST FOR GUESTS OF MINNESOTA IRON COMPANY                                                                      </td><td>BREAKFAST                                                                                                           </td></tr>\n",
       "\t<tr><td>BREAKFAST IN HONOR OF TAI HUNG-TZU,VICE PRES.OF THE IMPERIAL CHINESE BOARD OF REVENUE &amp; TUAN FANG,VICEROY OF MIN-CHE</td><td>BREAKFAST                                                                                                               </td></tr>\n",
       "\t<tr><td>BREAKFAST MENU                                                                                                      </td><td>BREAKFAST                                                                                                           </td></tr>\n",
       "\t<tr><td>BREAKFAST TO GOV.OF THE MISSIPPI VALLEY                                                                             </td><td>BREAKFAST                                                                                                           </td></tr>\n",
       "\t<tr><td>BREAKFAST-SECOND CABIN                                                                                              </td><td>BREAKFAST                                                                                                           </td></tr>\n",
       "\t<tr><td>BREAKFAST, LUNCH AND SUPPER                                                                                         </td><td>BREAKFAST                                                                                                           </td></tr>\n",
       "\t<tr><td><span style=white-space:pre-wrap>BREAKFAST,LUNCH &amp; DINNER                                                                                            </span></td><td>BREAKFAST                                                                                                                                                       </td></tr>\n",
       "\t<tr><td>BREAKFAST; LUNCH; DINNER                                                                                            </td><td>BREAKFAST                                                                                                           </td></tr>\n",
       "\t<tr><td>BREAKFAST(?) ADMIRAL JOHN GRIMES WALKER AND THE WHITE SQUADRON                                                      </td><td>BREAKFAST                                                                                                           </td></tr>\n",
       "\t<tr><td>BREAKFAST/SUPPER/LUNCH                                                                                              </td><td>BREAKFAST                                                                                                           </td></tr>\n",
       "\t<tr><td>BUFFET CAR SERVICE [BREAKFAST]                                                                                      </td><td>BREAKFAST                                                                                                           </td></tr>\n",
       "\t<tr><td>BUFFET SERVICE [BREAKFAST]                                                                                          </td><td>BREAKFAST                                                                                                           </td></tr>\n",
       "\t<tr><td>⋮</td><td>⋮</td></tr>\n",
       "\t<tr><td>THIRD ANNUAL DINNER                                                                         </td><td>DINNER                                                                                      </td></tr>\n",
       "\t<tr><td>THIRD ANNUAL DINNER IN COMMEMORATION OF THE 98TH ANNIVERSARY OF THE BIRTH OF ABRAHAM LINCOLN</td><td>DINNER                                                                                      </td></tr>\n",
       "\t<tr><td>THIRD ANNUAL SUBSCRIPTION DINNER                                                            </td><td>DINNER                                                                                      </td></tr>\n",
       "\t<tr><td>THIRD ANNUAL UNION DINNER                                                                   </td><td>DINNER                                                                                      </td></tr>\n",
       "\t<tr><td>Third Class Bill Of Fare: Dinner                                                            </td><td>DINNER                                                                                      </td></tr>\n",
       "\t<tr><td>THIRTEENTH ANNUAL DINNER                                                                    </td><td>DINNER                                                                                      </td></tr>\n",
       "\t<tr><td>THIRTEENTH ANNUAL REUNION AND DINNER                                                        </td><td>DINNER                                                                                      </td></tr>\n",
       "\t<tr><td>THIRTIETH ANNUAL DINNER                                                                     </td><td>DINNER                                                                                      </td></tr>\n",
       "\t<tr><td>THIRTY-FIRST ANNUAL DINNER                                                                  </td><td>DINNER                                                                                      </td></tr>\n",
       "\t<tr><td>THNAKSGIVING DINNER                                                                         </td><td>DINNER                                                                                      </td></tr>\n",
       "\t<tr><td>TOUR OF THE PRESIDENT TO THE PACIFIC COAST-DINNER                                           </td><td>DINNER                                                                                      </td></tr>\n",
       "\t<tr><td>TOUR TO BUFFALO - DINNER                                                                    </td><td>DINNER                                                                                      </td></tr>\n",
       "\t<tr><td>TRIENNIAL DINNER                                                                            </td><td>DINNER                                                                                      </td></tr>\n",
       "\t<tr><td>TRIP TO PHILADELPHIA AND 244TH REGULAR DINNER                                               </td><td>DINNER                                                                                      </td></tr>\n",
       "\t<tr><td>TURKEY DINNER                                                                               </td><td>DINNER                                                                                      </td></tr>\n",
       "\t<tr><td>TWENTIETH ANNIVERSARY DINNER                                                                </td><td>DINNER                                                                                      </td></tr>\n",
       "\t<tr><td>TWENTIETH ANNUAL DINNER                                                                     </td><td>DINNER                                                                                      </td></tr>\n",
       "\t<tr><td>Twenty Third Annual Dinner Of The New York Florist's Club At The Fifth Avenue Restaurant    </td><td>DINNER                                                                                      </td></tr>\n",
       "\t<tr><td>TWENTY-EIGHTH ANNUAL DINNER                                                                 </td><td>DINNER                                                                                      </td></tr>\n",
       "\t<tr><td>TWENTY-FIRST ANNIVERSARY DINNER                                                             </td><td>DINNER                                                                                      </td></tr>\n",
       "\t<tr><td>TWENTY-FIRST ANNUAL DINNER                                                                  </td><td>DINNER                                                                                      </td></tr>\n",
       "\t<tr><td>TWENTY-FIRST ANNUAL DINNER AND MEETING                                                      </td><td>DINNER                                                                                      </td></tr>\n",
       "\t<tr><td>TWENTY-NINTH ANNUAL DINNER                                                                  </td><td>DINNER                                                                                      </td></tr>\n",
       "\t<tr><td>TWENTY-SIXTH ANNUAL DINNER                                                                  </td><td>DINNER                                                                                      </td></tr>\n",
       "\t<tr><td>WASHINGTON'S BIRTHDAY DINNER                                                                </td><td>DINNER                                                                                      </td></tr>\n",
       "\t<tr><td>WASHINGTON'S BIRTHDAY DINNER MENU                                                           </td><td>DINNER                                                                                      </td></tr>\n",
       "\t<tr><td>WEDDING DINNER                                                                              </td><td>DINNER                                                                                      </td></tr>\n",
       "\t<tr><td>WELCOME HOME DINNER TENDERED TO THE HONORALBE ROBERT A. VAN WYCK                            </td><td>DINNER                                                                                      </td></tr>\n",
       "\t<tr><td>WHITE DINNER                                                                                </td><td>DINNER                                                                                      </td></tr>\n",
       "\t<tr><td>WORLD'S COLUMBIAN EXPOSITION DINNER                                                         </td><td>DINNER                                                                                      </td></tr>\n",
       "</tbody>\n",
       "</table>\n"
      ],
      "text/latex": [
       "\\begin{tabular}{r|ll}\n",
       " eventMerged & eventNorm\\\\\n",
       "\\hline\n",
       "\t 1ST ANNUAL BREAKFAST                                                                                                 & BREAKFAST                                                                                                           \\\\\n",
       "\t BILL OF FARE - BREAKFAST \\& SUPPER                                                                                    & BREAKFAST                                                                                                             \\\\\n",
       "\t BILL OF FARE/{[}BREAKFAST{]} ONE SIDE; BILL OF FARE/{[}LUNCH{]} REVERSE SIDE;                                                & BREAKFAST                                                                                                                   \\\\\n",
       "\t BILL OF FARE/BREAKFAST/DINNER                                                                                        & BREAKFAST                                                                                                           \\\\\n",
       "\t BREAKFAST                                                                                                            & BREAKFAST                                                                                                           \\\\\n",
       "\t BREAKFAST - A LA CARTE                                                                                               & BREAKFAST                                                                                                           \\\\\n",
       "\t BREAKFAST - PULLMAN DINING CAR SERVICE                                                                               & BREAKFAST                                                                                                           \\\\\n",
       "\t BREAKFAST - SECOND CABIN                                                                                             & BREAKFAST                                                                                                           \\\\\n",
       "\t BREAKFAST - TOUR OF THE PRES. TO CHICAGO \\& THE NORTHWEST                                                             & BREAKFAST                                                                                                             \\\\\n",
       "\t Breakfast (?) Held By Nordeutscher Lloyd Bremen At On Board The Ss George Washington                                 & BREAKFAST                                                                                                           \\\\\n",
       "\t BREAKFAST {[}ON FUNERAL TRAIN OF PRESIDENT McKINLEY?{]}                                                                  & BREAKFAST                                                                                                               \\\\\n",
       "\t BREAKFAST \\& DINNER MENU                                                                                              & BREAKFAST                                                                                                             \\\\\n",
       "\t BREAKFAST \\& LUNCHEON                                                                                                 & BREAKFAST                                                                                                             \\\\\n",
       "\t BREAKFAST \\& SUPPER MENU                                                                                              & BREAKFAST                                                                                                             \\\\\n",
       "\t Breakfast ˆ La Carte                                                                                                 & BREAKFAST                                                                                                           \\\\\n",
       "\t BREAKFAST AND SUPPER                                                                                                 & BREAKFAST                                                                                                           \\\\\n",
       "\t Breakfast By Usms St Louis                                                                                           & BREAKFAST                                                                                                           \\\\\n",
       "\t BREAKFAST DURING TRIP TO GERMANIC MUSEUM,CAMBRIDGE,MASS;                                                             & BREAKFAST                                                                                                           \\\\\n",
       "\t BREAKFAST FOR GUESTS OF MINNESOTA IRON COMPANY                                                                       & BREAKFAST                                                                                                           \\\\\n",
       "\t BREAKFAST IN HONOR OF TAI HUNG-TZU,VICE PRES.OF THE IMPERIAL CHINESE BOARD OF REVENUE \\& TUAN FANG,VICEROY OF MIN-CHE & BREAKFAST                                                                                                             \\\\\n",
       "\t BREAKFAST MENU                                                                                                       & BREAKFAST                                                                                                           \\\\\n",
       "\t BREAKFAST TO GOV.OF THE MISSIPPI VALLEY                                                                              & BREAKFAST                                                                                                           \\\\\n",
       "\t BREAKFAST-SECOND CABIN                                                                                               & BREAKFAST                                                                                                           \\\\\n",
       "\t BREAKFAST, LUNCH AND SUPPER                                                                                          & BREAKFAST                                                                                                           \\\\\n",
       "\t BREAKFAST,LUNCH \\& DINNER                                                                                             & BREAKFAST                                                                                                             \\\\\n",
       "\t BREAKFAST; LUNCH; DINNER                                                                                             & BREAKFAST                                                                                                           \\\\\n",
       "\t BREAKFAST(?) ADMIRAL JOHN GRIMES WALKER AND THE WHITE SQUADRON                                                       & BREAKFAST                                                                                                           \\\\\n",
       "\t BREAKFAST/SUPPER/LUNCH                                                                                               & BREAKFAST                                                                                                           \\\\\n",
       "\t BUFFET CAR SERVICE {[}BREAKFAST{]}                                                                                       & BREAKFAST                                                                                                               \\\\\n",
       "\t BUFFET SERVICE {[}BREAKFAST{]}                                                                                           & BREAKFAST                                                                                                               \\\\\n",
       "\t ⋮ & ⋮\\\\\n",
       "\t THIRD ANNUAL DINNER                                                                          & DINNER                                                                                      \\\\\n",
       "\t THIRD ANNUAL DINNER IN COMMEMORATION OF THE 98TH ANNIVERSARY OF THE BIRTH OF ABRAHAM LINCOLN & DINNER                                                                                      \\\\\n",
       "\t THIRD ANNUAL SUBSCRIPTION DINNER                                                             & DINNER                                                                                      \\\\\n",
       "\t THIRD ANNUAL UNION DINNER                                                                    & DINNER                                                                                      \\\\\n",
       "\t Third Class Bill Of Fare: Dinner                                                             & DINNER                                                                                      \\\\\n",
       "\t THIRTEENTH ANNUAL DINNER                                                                     & DINNER                                                                                      \\\\\n",
       "\t THIRTEENTH ANNUAL REUNION AND DINNER                                                         & DINNER                                                                                      \\\\\n",
       "\t THIRTIETH ANNUAL DINNER                                                                      & DINNER                                                                                      \\\\\n",
       "\t THIRTY-FIRST ANNUAL DINNER                                                                   & DINNER                                                                                      \\\\\n",
       "\t THNAKSGIVING DINNER                                                                          & DINNER                                                                                      \\\\\n",
       "\t TOUR OF THE PRESIDENT TO THE PACIFIC COAST-DINNER                                            & DINNER                                                                                      \\\\\n",
       "\t TOUR TO BUFFALO - DINNER                                                                     & DINNER                                                                                      \\\\\n",
       "\t TRIENNIAL DINNER                                                                             & DINNER                                                                                      \\\\\n",
       "\t TRIP TO PHILADELPHIA AND 244TH REGULAR DINNER                                                & DINNER                                                                                      \\\\\n",
       "\t TURKEY DINNER                                                                                & DINNER                                                                                      \\\\\n",
       "\t TWENTIETH ANNIVERSARY DINNER                                                                 & DINNER                                                                                      \\\\\n",
       "\t TWENTIETH ANNUAL DINNER                                                                      & DINNER                                                                                      \\\\\n",
       "\t Twenty Third Annual Dinner Of The New York Florist's Club At The Fifth Avenue Restaurant     & DINNER                                                                                      \\\\\n",
       "\t TWENTY-EIGHTH ANNUAL DINNER                                                                  & DINNER                                                                                      \\\\\n",
       "\t TWENTY-FIRST ANNIVERSARY DINNER                                                              & DINNER                                                                                      \\\\\n",
       "\t TWENTY-FIRST ANNUAL DINNER                                                                   & DINNER                                                                                      \\\\\n",
       "\t TWENTY-FIRST ANNUAL DINNER AND MEETING                                                       & DINNER                                                                                      \\\\\n",
       "\t TWENTY-NINTH ANNUAL DINNER                                                                   & DINNER                                                                                      \\\\\n",
       "\t TWENTY-SIXTH ANNUAL DINNER                                                                   & DINNER                                                                                      \\\\\n",
       "\t WASHINGTON'S BIRTHDAY DINNER                                                                 & DINNER                                                                                      \\\\\n",
       "\t WASHINGTON'S BIRTHDAY DINNER MENU                                                            & DINNER                                                                                      \\\\\n",
       "\t WEDDING DINNER                                                                               & DINNER                                                                                      \\\\\n",
       "\t WELCOME HOME DINNER TENDERED TO THE HONORALBE ROBERT A. VAN WYCK                             & DINNER                                                                                      \\\\\n",
       "\t WHITE DINNER                                                                                 & DINNER                                                                                      \\\\\n",
       "\t WORLD'S COLUMBIAN EXPOSITION DINNER                                                          & DINNER                                                                                      \\\\\n",
       "\\end{tabular}\n"
      ],
      "text/markdown": [
       "\n",
       "eventMerged | eventNorm | \n",
       "|---|---|---|---|---|---|---|---|---|---|---|---|---|---|---|---|---|---|---|---|---|---|---|---|---|---|---|---|---|---|---|---|---|---|---|---|---|---|---|---|---|---|---|---|---|---|---|---|---|---|---|---|---|---|---|---|---|---|---|---|---|\n",
       "| 1ST ANNUAL BREAKFAST                                                                                                 | BREAKFAST                                                                                                            | \n",
       "| BILL OF FARE - BREAKFAST & SUPPER                                                                                    | BREAKFAST                                                                                                            | \n",
       "| BILL OF FARE/[BREAKFAST] ONE SIDE; BILL OF FARE/[LUNCH] REVERSE SIDE;                                                | BREAKFAST                                                                                                            | \n",
       "| BILL OF FARE/BREAKFAST/DINNER                                                                                        | BREAKFAST                                                                                                            | \n",
       "| BREAKFAST                                                                                                            | BREAKFAST                                                                                                            | \n",
       "| BREAKFAST - A LA CARTE                                                                                               | BREAKFAST                                                                                                            | \n",
       "| BREAKFAST - PULLMAN DINING CAR SERVICE                                                                               | BREAKFAST                                                                                                            | \n",
       "| BREAKFAST - SECOND CABIN                                                                                             | BREAKFAST                                                                                                            | \n",
       "| BREAKFAST - TOUR OF THE PRES. TO CHICAGO & THE NORTHWEST                                                             | BREAKFAST                                                                                                            | \n",
       "| Breakfast (?) Held By Nordeutscher Lloyd Bremen At On Board The Ss George Washington                                 | BREAKFAST                                                                                                            | \n",
       "| BREAKFAST [ON FUNERAL TRAIN OF PRESIDENT McKINLEY?]                                                                  | BREAKFAST                                                                                                            | \n",
       "| BREAKFAST & DINNER MENU                                                                                              | BREAKFAST                                                                                                            | \n",
       "| BREAKFAST & LUNCHEON                                                                                                 | BREAKFAST                                                                                                            | \n",
       "| BREAKFAST & SUPPER MENU                                                                                              | BREAKFAST                                                                                                            | \n",
       "| Breakfast ˆ La Carte                                                                                                 | BREAKFAST                                                                                                            | \n",
       "| BREAKFAST AND SUPPER                                                                                                 | BREAKFAST                                                                                                            | \n",
       "| Breakfast By Usms St Louis                                                                                           | BREAKFAST                                                                                                            | \n",
       "| BREAKFAST DURING TRIP TO GERMANIC MUSEUM,CAMBRIDGE,MASS;                                                             | BREAKFAST                                                                                                            | \n",
       "| BREAKFAST FOR GUESTS OF MINNESOTA IRON COMPANY                                                                       | BREAKFAST                                                                                                            | \n",
       "| BREAKFAST IN HONOR OF TAI HUNG-TZU,VICE PRES.OF THE IMPERIAL CHINESE BOARD OF REVENUE & TUAN FANG,VICEROY OF MIN-CHE | BREAKFAST                                                                                                            | \n",
       "| BREAKFAST MENU                                                                                                       | BREAKFAST                                                                                                            | \n",
       "| BREAKFAST TO GOV.OF THE MISSIPPI VALLEY                                                                              | BREAKFAST                                                                                                            | \n",
       "| BREAKFAST-SECOND CABIN                                                                                               | BREAKFAST                                                                                                            | \n",
       "| BREAKFAST, LUNCH AND SUPPER                                                                                          | BREAKFAST                                                                                                            | \n",
       "| BREAKFAST,LUNCH & DINNER                                                                                             | BREAKFAST                                                                                                            | \n",
       "| BREAKFAST; LUNCH; DINNER                                                                                             | BREAKFAST                                                                                                            | \n",
       "| BREAKFAST(?) ADMIRAL JOHN GRIMES WALKER AND THE WHITE SQUADRON                                                       | BREAKFAST                                                                                                            | \n",
       "| BREAKFAST/SUPPER/LUNCH                                                                                               | BREAKFAST                                                                                                            | \n",
       "| BUFFET CAR SERVICE [BREAKFAST]                                                                                       | BREAKFAST                                                                                                            | \n",
       "| BUFFET SERVICE [BREAKFAST]                                                                                           | BREAKFAST                                                                                                            | \n",
       "| ⋮ | ⋮ | \n",
       "| THIRD ANNUAL DINNER                                                                          | DINNER                                                                                       | \n",
       "| THIRD ANNUAL DINNER IN COMMEMORATION OF THE 98TH ANNIVERSARY OF THE BIRTH OF ABRAHAM LINCOLN | DINNER                                                                                       | \n",
       "| THIRD ANNUAL SUBSCRIPTION DINNER                                                             | DINNER                                                                                       | \n",
       "| THIRD ANNUAL UNION DINNER                                                                    | DINNER                                                                                       | \n",
       "| Third Class Bill Of Fare: Dinner                                                             | DINNER                                                                                       | \n",
       "| THIRTEENTH ANNUAL DINNER                                                                     | DINNER                                                                                       | \n",
       "| THIRTEENTH ANNUAL REUNION AND DINNER                                                         | DINNER                                                                                       | \n",
       "| THIRTIETH ANNUAL DINNER                                                                      | DINNER                                                                                       | \n",
       "| THIRTY-FIRST ANNUAL DINNER                                                                   | DINNER                                                                                       | \n",
       "| THNAKSGIVING DINNER                                                                          | DINNER                                                                                       | \n",
       "| TOUR OF THE PRESIDENT TO THE PACIFIC COAST-DINNER                                            | DINNER                                                                                       | \n",
       "| TOUR TO BUFFALO - DINNER                                                                     | DINNER                                                                                       | \n",
       "| TRIENNIAL DINNER                                                                             | DINNER                                                                                       | \n",
       "| TRIP TO PHILADELPHIA AND 244TH REGULAR DINNER                                                | DINNER                                                                                       | \n",
       "| TURKEY DINNER                                                                                | DINNER                                                                                       | \n",
       "| TWENTIETH ANNIVERSARY DINNER                                                                 | DINNER                                                                                       | \n",
       "| TWENTIETH ANNUAL DINNER                                                                      | DINNER                                                                                       | \n",
       "| Twenty Third Annual Dinner Of The New York Florist's Club At The Fifth Avenue Restaurant     | DINNER                                                                                       | \n",
       "| TWENTY-EIGHTH ANNUAL DINNER                                                                  | DINNER                                                                                       | \n",
       "| TWENTY-FIRST ANNIVERSARY DINNER                                                              | DINNER                                                                                       | \n",
       "| TWENTY-FIRST ANNUAL DINNER                                                                   | DINNER                                                                                       | \n",
       "| TWENTY-FIRST ANNUAL DINNER AND MEETING                                                       | DINNER                                                                                       | \n",
       "| TWENTY-NINTH ANNUAL DINNER                                                                   | DINNER                                                                                       | \n",
       "| TWENTY-SIXTH ANNUAL DINNER                                                                   | DINNER                                                                                       | \n",
       "| WASHINGTON'S BIRTHDAY DINNER                                                                 | DINNER                                                                                       | \n",
       "| WASHINGTON'S BIRTHDAY DINNER MENU                                                            | DINNER                                                                                       | \n",
       "| WEDDING DINNER                                                                               | DINNER                                                                                       | \n",
       "| WELCOME HOME DINNER TENDERED TO THE HONORALBE ROBERT A. VAN WYCK                             | DINNER                                                                                       | \n",
       "| WHITE DINNER                                                                                 | DINNER                                                                                       | \n",
       "| WORLD'S COLUMBIAN EXPOSITION DINNER                                                          | DINNER                                                                                       | \n",
       "\n",
       "\n"
      ],
      "text/plain": [
       "    eventMerged                                                                                                         \n",
       "1   1ST ANNUAL BREAKFAST                                                                                                \n",
       "2   BILL OF FARE - BREAKFAST & SUPPER                                                                                   \n",
       "3   BILL OF FARE/[BREAKFAST] ONE SIDE; BILL OF FARE/[LUNCH] REVERSE SIDE;                                               \n",
       "4   BILL OF FARE/BREAKFAST/DINNER                                                                                       \n",
       "5   BREAKFAST                                                                                                           \n",
       "6   BREAKFAST - A LA CARTE                                                                                              \n",
       "7   BREAKFAST - PULLMAN DINING CAR SERVICE                                                                              \n",
       "8   BREAKFAST - SECOND CABIN                                                                                            \n",
       "9   BREAKFAST - TOUR OF THE PRES. TO CHICAGO & THE NORTHWEST                                                            \n",
       "10  Breakfast (?) Held By Nordeutscher Lloyd Bremen At On Board The Ss George Washington                                \n",
       "11  BREAKFAST [ON FUNERAL TRAIN OF PRESIDENT McKINLEY?]                                                                 \n",
       "12  BREAKFAST & DINNER MENU                                                                                             \n",
       "13  BREAKFAST & LUNCHEON                                                                                                \n",
       "14  BREAKFAST & SUPPER MENU                                                                                             \n",
       "15  Breakfast ˆ La Carte                                                                                                \n",
       "16  BREAKFAST AND SUPPER                                                                                                \n",
       "17  Breakfast By Usms St Louis                                                                                          \n",
       "18  BREAKFAST DURING TRIP TO GERMANIC MUSEUM,CAMBRIDGE,MASS;                                                            \n",
       "19  BREAKFAST FOR GUESTS OF MINNESOTA IRON COMPANY                                                                      \n",
       "20  BREAKFAST IN HONOR OF TAI HUNG-TZU,VICE PRES.OF THE IMPERIAL CHINESE BOARD OF REVENUE & TUAN FANG,VICEROY OF MIN-CHE\n",
       "21  BREAKFAST MENU                                                                                                      \n",
       "22  BREAKFAST TO GOV.OF THE MISSIPPI VALLEY                                                                             \n",
       "23  BREAKFAST-SECOND CABIN                                                                                              \n",
       "24  BREAKFAST, LUNCH AND SUPPER                                                                                         \n",
       "25  BREAKFAST,LUNCH & DINNER                                                                                            \n",
       "26  BREAKFAST; LUNCH; DINNER                                                                                            \n",
       "27  BREAKFAST(?) ADMIRAL JOHN GRIMES WALKER AND THE WHITE SQUADRON                                                      \n",
       "28  BREAKFAST/SUPPER/LUNCH                                                                                              \n",
       "29  BUFFET CAR SERVICE [BREAKFAST]                                                                                      \n",
       "30  BUFFET SERVICE [BREAKFAST]                                                                                          \n",
       "⋮   ⋮                                                                                                                   \n",
       "865 THIRD ANNUAL DINNER                                                                                                 \n",
       "866 THIRD ANNUAL DINNER IN COMMEMORATION OF THE 98TH ANNIVERSARY OF THE BIRTH OF ABRAHAM LINCOLN                        \n",
       "867 THIRD ANNUAL SUBSCRIPTION DINNER                                                                                    \n",
       "868 THIRD ANNUAL UNION DINNER                                                                                           \n",
       "869 Third Class Bill Of Fare: Dinner                                                                                    \n",
       "870 THIRTEENTH ANNUAL DINNER                                                                                            \n",
       "871 THIRTEENTH ANNUAL REUNION AND DINNER                                                                                \n",
       "872 THIRTIETH ANNUAL DINNER                                                                                             \n",
       "873 THIRTY-FIRST ANNUAL DINNER                                                                                          \n",
       "874 THNAKSGIVING DINNER                                                                                                 \n",
       "875 TOUR OF THE PRESIDENT TO THE PACIFIC COAST-DINNER                                                                   \n",
       "876 TOUR TO BUFFALO - DINNER                                                                                            \n",
       "877 TRIENNIAL DINNER                                                                                                    \n",
       "878 TRIP TO PHILADELPHIA AND 244TH REGULAR DINNER                                                                       \n",
       "879 TURKEY DINNER                                                                                                       \n",
       "880 TWENTIETH ANNIVERSARY DINNER                                                                                        \n",
       "881 TWENTIETH ANNUAL DINNER                                                                                             \n",
       "882 Twenty Third Annual Dinner Of The New York Florist's Club At The Fifth Avenue Restaurant                            \n",
       "883 TWENTY-EIGHTH ANNUAL DINNER                                                                                         \n",
       "884 TWENTY-FIRST ANNIVERSARY DINNER                                                                                     \n",
       "885 TWENTY-FIRST ANNUAL DINNER                                                                                          \n",
       "886 TWENTY-FIRST ANNUAL DINNER AND MEETING                                                                              \n",
       "887 TWENTY-NINTH ANNUAL DINNER                                                                                          \n",
       "888 TWENTY-SIXTH ANNUAL DINNER                                                                                          \n",
       "889 WASHINGTON'S BIRTHDAY DINNER                                                                                        \n",
       "890 WASHINGTON'S BIRTHDAY DINNER MENU                                                                                   \n",
       "891 WEDDING DINNER                                                                                                      \n",
       "892 WELCOME HOME DINNER TENDERED TO THE HONORALBE ROBERT A. VAN WYCK                                                    \n",
       "893 WHITE DINNER                                                                                                        \n",
       "894 WORLD'S COLUMBIAN EXPOSITION DINNER                                                                                 \n",
       "    eventNorm\n",
       "1   BREAKFAST\n",
       "2   BREAKFAST\n",
       "3   BREAKFAST\n",
       "4   BREAKFAST\n",
       "5   BREAKFAST\n",
       "6   BREAKFAST\n",
       "7   BREAKFAST\n",
       "8   BREAKFAST\n",
       "9   BREAKFAST\n",
       "10  BREAKFAST\n",
       "11  BREAKFAST\n",
       "12  BREAKFAST\n",
       "13  BREAKFAST\n",
       "14  BREAKFAST\n",
       "15  BREAKFAST\n",
       "16  BREAKFAST\n",
       "17  BREAKFAST\n",
       "18  BREAKFAST\n",
       "19  BREAKFAST\n",
       "20  BREAKFAST\n",
       "21  BREAKFAST\n",
       "22  BREAKFAST\n",
       "23  BREAKFAST\n",
       "24  BREAKFAST\n",
       "25  BREAKFAST\n",
       "26  BREAKFAST\n",
       "27  BREAKFAST\n",
       "28  BREAKFAST\n",
       "29  BREAKFAST\n",
       "30  BREAKFAST\n",
       "⋮   ⋮        \n",
       "865 DINNER   \n",
       "866 DINNER   \n",
       "867 DINNER   \n",
       "868 DINNER   \n",
       "869 DINNER   \n",
       "870 DINNER   \n",
       "871 DINNER   \n",
       "872 DINNER   \n",
       "873 DINNER   \n",
       "874 DINNER   \n",
       "875 DINNER   \n",
       "876 DINNER   \n",
       "877 DINNER   \n",
       "878 DINNER   \n",
       "879 DINNER   \n",
       "880 DINNER   \n",
       "881 DINNER   \n",
       "882 DINNER   \n",
       "883 DINNER   \n",
       "884 DINNER   \n",
       "885 DINNER   \n",
       "886 DINNER   \n",
       "887 DINNER   \n",
       "888 DINNER   \n",
       "889 DINNER   \n",
       "890 DINNER   \n",
       "891 DINNER   \n",
       "892 DINNER   \n",
       "893 DINNER   \n",
       "894 DINNER   "
      ]
     },
     "metadata": {},
     "output_type": "display_data"
    }
   ],
   "source": [
    "# Create a variable called \"eventDict\" for your dictionary file\n",
    "library(stringr)\n",
    "event_type_merged_count = count(event_types_merged, value)\n",
    "\n",
    "dinner = filter(event_type_merged_count, str_detect(value,regex(\"dinner\",ignore_case=TRUE)))\n",
    "lunch = filter(event_type_merged_count, str_detect(value,regex(\"lunch\",ignore_case=TRUE)))\n",
    "breakfast = filter(event_type_merged_count, str_detect(value,regex(\"breakfast\",ignore_case=TRUE)))\n",
    "\n",
    "eventMerged = rbind(breakfast, lunch, dinner)$value\n",
    "eventNorm = c(rep('BREAKFAST',nrow(breakfast)),rep('LUNCH',nrow(lunch)),rep('DINNER',nrow(dinner)))\n",
    "\n",
    "eventDict = as.tibble(cbind(eventMerged, eventNorm))\n",
    "write_csv(eventDict, 'eventDict.csv')\n",
    "\n",
    "eventDict = read_csv('eventDict.csv')\n",
    "eventDict"
   ]
  },
  {
   "cell_type": "code",
   "execution_count": 28,
   "metadata": {
    "deletable": false,
    "editable": false,
    "nbgrader": {
     "checksum": "6fa9cdb65e7f888e5037b06a04a4051d",
     "grade": true,
     "grade_id": "cell-3113f87fa1b647ac",
     "locked": true,
     "points": 40,
     "schema_version": 1,
     "solution": false
    }
   },
   "outputs": [],
   "source": [
    "# This cell will test if you gave the above answer correctly.\n",
    "# It will only run after submission\n"
   ]
  },
  {
   "cell_type": "markdown",
   "metadata": {},
   "source": [
    "## Merging the Data (20pts)\n",
    "Use the tidyverse left_join() method to merge your dictionary with the existing menu tibble."
   ]
  },
  {
   "cell_type": "code",
   "execution_count": 29,
   "metadata": {
    "deletable": false,
    "nbgrader": {
     "checksum": "0057ab4e26370a1085021b2479f55651",
     "grade": false,
     "grade_id": "cell-f0301fd723d6daac",
     "locked": false,
     "schema_version": 1,
     "solution": true
    }
   },
   "outputs": [],
   "source": [
    "# Add a column to the menu tibble. Reuse the menu variable.\n",
    "menu = left_join(menu, eventDict, by = 'eventMerged')\n",
    "\n"
   ]
  },
  {
   "cell_type": "code",
   "execution_count": 30,
   "metadata": {
    "deletable": false,
    "editable": false,
    "nbgrader": {
     "checksum": "e310792609d545605124677102c62c86",
     "grade": true,
     "grade_id": "cell-675cc23ab8bab257",
     "locked": true,
     "points": 10,
     "schema_version": 1,
     "solution": false
    }
   },
   "outputs": [],
   "source": [
    "# This cell will test if you gave the above answer correctly.\n",
    "# It will only run after submission\n"
   ]
  },
  {
   "cell_type": "markdown",
   "metadata": {
    "deletable": false,
    "editable": false,
    "nbgrader": {
     "checksum": "d9abe9af0a1c395ee5b273147f7c5e4d",
     "grade": false,
     "grade_id": "cell-eab7975ca83c2063",
     "locked": true,
     "schema_version": 1,
     "solution": false
    }
   },
   "source": [
    "How many DINNERS are listed for the eventNorm column?"
   ]
  },
  {
   "cell_type": "code",
   "execution_count": 31,
   "metadata": {
    "deletable": false,
    "nbgrader": {
     "checksum": "7b8c77e4bc8c7525e372868ef8272eb8",
     "grade": false,
     "grade_id": "cell-055d405170c64e30",
     "locked": false,
     "schema_version": 1,
     "solution": true
    }
   },
   "outputs": [
    {
     "data": {
      "text/html": [
       "3511"
      ],
      "text/latex": [
       "3511"
      ],
      "text/markdown": [
       "3511"
      ],
      "text/plain": [
       "[1] 3511"
      ]
     },
     "metadata": {},
     "output_type": "display_data"
    }
   ],
   "source": [
    "# Create a variable called dinnerCount for your answer\n",
    "dinnerCount = nrow(menu[which(menu$eventNorm=='DINNER'),])\n",
    "dinnerCount"
   ]
  },
  {
   "cell_type": "code",
   "execution_count": 32,
   "metadata": {
    "deletable": false,
    "editable": false,
    "nbgrader": {
     "checksum": "f73913caca4d741cf55f063d30297615",
     "grade": true,
     "grade_id": "cell-e82b404741354cd8",
     "locked": true,
     "points": 8,
     "schema_version": 1,
     "solution": false
    }
   },
   "outputs": [],
   "source": [
    "# This cell will test if you gave the above answer correctly.\n",
    "# It will only run after submission\n"
   ]
  },
  {
   "cell_type": "markdown",
   "metadata": {
    "deletable": false,
    "editable": false,
    "nbgrader": {
     "checksum": "989b1057ee202b4be67e75b2e236cff9",
     "grade": false,
     "grade_id": "cell-c05639e0513b9bc0",
     "locked": true,
     "schema_version": 1,
     "solution": false
    }
   },
   "source": [
    "How many LUNCHES are listed for the eventNorm column?"
   ]
  },
  {
   "cell_type": "code",
   "execution_count": 33,
   "metadata": {
    "deletable": false,
    "nbgrader": {
     "checksum": "da783f4db0862b8942dcd851c6b38ce0",
     "grade": false,
     "grade_id": "cell-a84e7b39e62e7c6b",
     "locked": false,
     "schema_version": 1,
     "solution": true
    }
   },
   "outputs": [
    {
     "data": {
      "text/html": [
       "1509"
      ],
      "text/latex": [
       "1509"
      ],
      "text/markdown": [
       "1509"
      ],
      "text/plain": [
       "[1] 1509"
      ]
     },
     "metadata": {},
     "output_type": "display_data"
    }
   ],
   "source": [
    "# Create a variable called lunchCount for your answer\n",
    "lunchCount = nrow(menu[which(menu$eventNorm=='LUNCH'),])\n",
    "lunchCount"
   ]
  },
  {
   "cell_type": "code",
   "execution_count": 34,
   "metadata": {
    "deletable": false,
    "editable": false,
    "nbgrader": {
     "checksum": "a54e1b5ee1755fca875665b024f03401",
     "grade": true,
     "grade_id": "cell-4592bc5cb77746a5",
     "locked": true,
     "points": 1,
     "schema_version": 1,
     "solution": false
    }
   },
   "outputs": [],
   "source": [
    "# This cell will test if you gave the above answer correctly.\n",
    "# It will only run after submission\n"
   ]
  },
  {
   "cell_type": "markdown",
   "metadata": {
    "deletable": false,
    "editable": false,
    "nbgrader": {
     "checksum": "604ab359ccb0afab7bf771bf5d80f37f",
     "grade": false,
     "grade_id": "cell-376ff51bced6e926",
     "locked": true,
     "schema_version": 1,
     "solution": false
    }
   },
   "source": [
    "How many BREAKFASTS are listed for the eventNorm column?"
   ]
  },
  {
   "cell_type": "code",
   "execution_count": 35,
   "metadata": {
    "deletable": false,
    "nbgrader": {
     "checksum": "6d48df4ec7d872eabbbd2c895648ffc8",
     "grade": false,
     "grade_id": "cell-b56dbe0614e84835",
     "locked": false,
     "schema_version": 1,
     "solution": true
    }
   },
   "outputs": [
    {
     "data": {
      "text/html": [
       "1062"
      ],
      "text/latex": [
       "1062"
      ],
      "text/markdown": [
       "1062"
      ],
      "text/plain": [
       "[1] 1062"
      ]
     },
     "metadata": {},
     "output_type": "display_data"
    }
   ],
   "source": [
    "# Create a variable called breakfastCount for your answer\n",
    "breakfastCount = nrow(menu[which(menu$eventNorm=='BREAKFAST'),])\n",
    "breakfastCount"
   ]
  },
  {
   "cell_type": "code",
   "execution_count": null,
   "metadata": {
    "deletable": false,
    "editable": false,
    "nbgrader": {
     "checksum": "32a0697fb2fb9c64e0b2a3fa91199735",
     "grade": true,
     "grade_id": "cell-33adf62a88f56ee8",
     "locked": true,
     "points": 1,
     "schema_version": 1,
     "solution": false
    }
   },
   "outputs": [],
   "source": [
    "# This cell will test if you gave the above answer correctly.\n",
    "# It will only run after submission\n"
   ]
  },
  {
   "cell_type": "code",
   "execution_count": null,
   "metadata": {},
   "outputs": [],
   "source": []
  }
 ],
 "metadata": {
  "kernelspec": {
   "display_name": "R",
   "language": "R",
   "name": "ir"
  },
  "language_info": {
   "codemirror_mode": "r",
   "file_extension": ".r",
   "mimetype": "text/x-r-source",
   "name": "R",
   "pygments_lexer": "r",
   "version": "3.4.1"
  }
 },
 "nbformat": 4,
 "nbformat_minor": 2
}
